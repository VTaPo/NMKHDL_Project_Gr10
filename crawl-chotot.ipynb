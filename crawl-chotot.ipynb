{
 "cells": [
  {
   "cell_type": "markdown",
   "metadata": {},
   "source": [
    "### Import thư viện cần thiết"
   ]
  },
  {
   "cell_type": "code",
   "execution_count": 1,
   "metadata": {},
   "outputs": [],
   "source": [
    "import requests\n",
    "import datetime\n",
    "from selenium.webdriver.common.action_chains import ActionChains\n",
    "import pandas as pd \n",
    "import numpy as np\n",
    "from bs4 import BeautifulSoup\n",
    "from urllib.request import Request, urlopen\n",
    "from selenium import webdriver\n",
    "from selenium.webdriver.common.by import By\n",
    "from selenium.webdriver.chrome.options import Options"
   ]
  },
  {
   "cell_type": "markdown",
   "metadata": {},
   "source": [
    "### Tạo Webdriver"
   ]
  },
  {
   "cell_type": "code",
   "execution_count": 2,
   "metadata": {},
   "outputs": [
    {
     "name": "stderr",
     "output_type": "stream",
     "text": [
      "C:\\Users\\Admin\\AppData\\Local\\Temp\\ipykernel_22848\\3964112724.py:7: DeprecationWarning: executable_path has been deprecated, please pass in a Service object\n",
      "  driver = webdriver.Chrome(PATH)#, options = options)\n"
     ]
    }
   ],
   "source": [
    "apart_arr = []\n",
    "# Declare browser\n",
    "options = Options()\n",
    "options.add_argument(\"--headless\")\n",
    "options.add_argument(\"---window-size=1920,1080\")\n",
    "PATH = \"D:\\Tai_Phan_Mem\\chromedriver_win32\\chromedriver.exe\"\n",
    "driver = webdriver.Chrome(PATH)#, options = options)"
   ]
  },
  {
   "cell_type": "markdown",
   "metadata": {},
   "source": [
    "### Khởi tạo Dataframe chứa dữ liệu thu thập"
   ]
  },
  {
   "cell_type": "code",
   "execution_count": 3,
   "metadata": {},
   "outputs": [
    {
     "data": {
      "text/plain": [
       "(0, 10)"
      ]
     },
     "execution_count": 3,
     "metadata": {},
     "output_type": "execute_result"
    }
   ],
   "source": [
    "# DATAFRAME FEATURES\n",
    "# address, price, area, property_status, price_per_m2, bedroom, toilets, floornumber, property_legal, furniture\n",
    "df_columns = ['address', 'area', 'price', 'property_status', 'price_per_m2', 'bedroom', 'toilets', 'floornumber','property_legal', 'furniture']\n",
    "len(df_columns)\n",
    "# Khởi tạo dataframe rỗng, tạo sẵn các cột\n",
    "df = pd.DataFrame(columns = df_columns)\n",
    "df.drop(df.index,inplace=True) \n",
    "df.shape"
   ]
  },
  {
   "cell_type": "markdown",
   "metadata": {},
   "source": [
    "### 1. Lấy link (đường dẫn) đến các chung cư "
   ]
  },
  {
   "cell_type": "code",
   "execution_count": 4,
   "metadata": {},
   "outputs": [],
   "source": [
    "# hàm lấy link của các trang chủ (num_page = số trang)\n",
    "# Thêm vào\n",
    "def get_apart_links(url, num_page):\n",
    "    apartments_link = []\n",
    "    for i in range(num_page):\n",
    "        driver2 = webdriver.Chrome(PATH) #, options = options)\n",
    "        driver2.get(url + str(i))\n",
    "        \n",
    "        # Open URL\n",
    "        soup = BeautifulSoup(driver2.page_source)\n",
    "        a = soup.find_all(\"a\",class_='AdItem_adItem__USIDA')\n",
    "        for i in range(len(a)):\n",
    "            link =\"https://nha.chotot.com/\"+a[i]['href']\n",
    "            apartments_link.append(link)\n",
    "    return apartments_link\n"
   ]
  },
  {
   "cell_type": "code",
   "execution_count": 5,
   "metadata": {},
   "outputs": [
    {
     "name": "stderr",
     "output_type": "stream",
     "text": [
      "C:\\Users\\Admin\\AppData\\Local\\Temp\\ipykernel_22848\\2369627906.py:6: DeprecationWarning: executable_path has been deprecated, please pass in a Service object\n",
      "  driver2 = webdriver.Chrome(PATH) #, options = options)\n"
     ]
    },
    {
     "name": "stdout",
     "output_type": "stream",
     "text": [
      "Số lượng chung cư sẽ lấy thông tin: 1115\n"
     ]
    }
   ],
   "source": [
    "url = \"https://www.nhatot.com/mua-ban-can-ho-chung-cu-tp-ho-chi-minh?page=\"\n",
    "num_page = 55\n",
    "apartment_links = get_apart_links(url, num_page)\n",
    "print('Số lượng chung cư sẽ lấy thông tin:', len(apartment_links))"
   ]
  },
  {
   "cell_type": "markdown",
   "metadata": {},
   "source": [
    "### 2. Truy cập từng chung cư để lấy dữ liệu"
   ]
  },
  {
   "cell_type": "code",
   "execution_count": 6,
   "metadata": {},
   "outputs": [],
   "source": [
    "# Trả về thông tin (list) của 1 apartment\n",
    "def get_info_of_apartment(apartment_link):\n",
    "    driver1 = webdriver.Chrome(PATH) #, options = options)\n",
    "    driver1.get(apartment_link)\n",
    "    driver1.execute_script('window.scrollTo(0,700)')\n",
    "\n",
    "    try:\n",
    "        xemthem = driver1.find_element(By.XPATH, '//*[@id=\"__next\"]/div/div[3]/div[1]/div/div[4]/div/div[3]/button')\n",
    "        xemthem.click()\n",
    "    except: \n",
    "        pass\n",
    "    soup1 = BeautifulSoup(driver1.page_source)\n",
    "    \n",
    "    price = soup1.find('span', itemprop = 'price')\n",
    "    price = price.text.split(' - ')[0]\n",
    "    area = soup1.find('span', itemprop = 'size')\n",
    "    address = soup1.find(class_ = 'fz13')\n",
    "    property_status = soup1.find('span', itemprop = 'property_status')\n",
    "    price_per_m2 = soup1.find('span', itemprop=\"price_m2\")\n",
    "    bedroom = soup1.find('span', itemprop=\"rooms\")\n",
    "    toilets = soup1.find('span', itemprop=\"toilets\")\n",
    "    floornumber = soup1.find('span', itemprop=\"floornumber\")\n",
    "    property_legal = soup1.find('span', itemprop=\"property_legal_document\")\n",
    "    furniture = soup1.find('span', itemprop = 'furnishing_sell')\n",
    "    \n",
    "    info_list = [] # HTML type\n",
    "    info_text = [] # text\n",
    "    info_list.extend([address, price, area, property_status, price_per_m2, bedroom, toilets, floornumber, property_legal, furniture])\n",
    "    info_text.extend([address.text[:-10], price])\n",
    "\n",
    "    for feature in info_list[2:]:\n",
    "        if feature != None:\n",
    "            info_text.append(feature.text)\n",
    "        else:\n",
    "            info_text.append('')\n",
    "    driver1.quit()\n",
    "    return info_text\n",
    "    \n"
   ]
  },
  {
   "cell_type": "code",
   "execution_count": 7,
   "metadata": {},
   "outputs": [
    {
     "name": "stdout",
     "output_type": "stream",
     "text": [
      "1115\n"
     ]
    }
   ],
   "source": [
    "# Lấy thông tin từng trang, thêm vào df\n",
    "\n",
    "def get_info_of_page(apart_arr):\n",
    "    df_temp = df.copy()\n",
    "    for apart in apart_arr:\n",
    "        apart_info = get_info_of_apartment(apart)\n",
    "        df_temp.loc[len(df)] = apart_info\n",
    "    return df_temp\n",
    "print(len(apartment_links))\n",
    "# get_info_of_page(apartment_links)        "
   ]
  },
  {
   "cell_type": "code",
   "execution_count": 8,
   "metadata": {},
   "outputs": [
    {
     "name": "stderr",
     "output_type": "stream",
     "text": [
      "C:\\Users\\Admin\\AppData\\Local\\Temp\\ipykernel_22848\\934555059.py:3: DeprecationWarning: executable_path has been deprecated, please pass in a Service object\n",
      "  driver1 = webdriver.Chrome(PATH) #, options = options)\n"
     ]
    }
   ],
   "source": [
    "df1 = get_info_of_page(apartment_links[0:100])\n",
    "df1.to_csv('chotot-data-1.csv', index = False)"
   ]
  },
  {
   "cell_type": "code",
   "execution_count": 9,
   "metadata": {},
   "outputs": [
    {
     "name": "stderr",
     "output_type": "stream",
     "text": [
      "C:\\Users\\Admin\\AppData\\Local\\Temp\\ipykernel_22848\\934555059.py:3: DeprecationWarning: executable_path has been deprecated, please pass in a Service object\n",
      "  driver1 = webdriver.Chrome(PATH) #, options = options)\n"
     ]
    }
   ],
   "source": [
    "df2 = get_info_of_page(apartment_links[100:200])\n",
    "df2.to_csv('chotot-data-2.csv', index = False)"
   ]
  },
  {
   "cell_type": "code",
   "execution_count": null,
   "metadata": {},
   "outputs": [],
   "source": [
    "df3 = get_info_of_page(apartment_links[200:300])\n",
    "df3.to_csv('chotot-data-3.csv', index = False)"
   ]
  },
  {
   "cell_type": "code",
   "execution_count": null,
   "metadata": {},
   "outputs": [],
   "source": [
    "df4 = get_info_of_page(apartment_links[300:400])\n",
    "df4.to_csv('chotot-data-4.csv', index = False)"
   ]
  },
  {
   "cell_type": "code",
   "execution_count": null,
   "metadata": {},
   "outputs": [],
   "source": [
    "df5 = get_info_of_page(apartment_links[400:500])\n",
    "df5.to_csv('chotot-data-5.csv', index = False)"
   ]
  },
  {
   "cell_type": "code",
   "execution_count": null,
   "metadata": {},
   "outputs": [],
   "source": [
    "df6 = get_info_of_page(apartment_links[500:600])\n",
    "df6.to_csv('chotot-data-6.csv', index = False)"
   ]
  },
  {
   "cell_type": "code",
   "execution_count": null,
   "metadata": {},
   "outputs": [],
   "source": [
    "df7 = get_info_of_page(apartment_links[600:700])\n",
    "df7.to_csv('chotot-data-7.csv', index = False)\n"
   ]
  },
  {
   "cell_type": "code",
   "execution_count": null,
   "metadata": {},
   "outputs": [],
   "source": [
    "df8 = get_info_of_page(apartment_links[700:800])\n",
    "df8.to_csv('chotot-data-8.csv', index = False)"
   ]
  },
  {
   "cell_type": "code",
   "execution_count": null,
   "metadata": {},
   "outputs": [],
   "source": [
    "df9 = get_info_of_page(apartment_links[800:900])\n",
    "df9.to_csv('chotot-data-9.csv', index = False)"
   ]
  },
  {
   "cell_type": "code",
   "execution_count": null,
   "metadata": {},
   "outputs": [],
   "source": [
    "df10 = get_info_of_page(apartment_links[900:1000])\n",
    "df10.to_csv('chotot-data-10.csv', index = False)"
   ]
  },
  {
   "cell_type": "code",
   "execution_count": null,
   "metadata": {},
   "outputs": [],
   "source": [
    "df11 = get_info_of_page(apartment_links[1000:])\n",
    "df11.to_csv('chotot-data-11.csv', index = False)"
   ]
  },
  {
   "cell_type": "code",
   "execution_count": 14,
   "metadata": {},
   "outputs": [
    {
     "data": {
      "text/html": [
       "<div>\n",
       "<style scoped>\n",
       "    .dataframe tbody tr th:only-of-type {\n",
       "        vertical-align: middle;\n",
       "    }\n",
       "\n",
       "    .dataframe tbody tr th {\n",
       "        vertical-align: top;\n",
       "    }\n",
       "\n",
       "    .dataframe thead th {\n",
       "        text-align: right;\n",
       "    }\n",
       "</style>\n",
       "<table border=\"1\" class=\"dataframe\">\n",
       "  <thead>\n",
       "    <tr style=\"text-align: right;\">\n",
       "      <th></th>\n",
       "      <th>address</th>\n",
       "      <th>area</th>\n",
       "      <th>price</th>\n",
       "      <th>property_status</th>\n",
       "      <th>price_per_m2</th>\n",
       "      <th>bedroom</th>\n",
       "      <th>toilets</th>\n",
       "      <th>floornumber</th>\n",
       "      <th>property_legal</th>\n",
       "      <th>furniture</th>\n",
       "    </tr>\n",
       "  </thead>\n",
       "  <tbody>\n",
       "  </tbody>\n",
       "</table>\n",
       "</div>"
      ],
      "text/plain": [
       "Empty DataFrame\n",
       "Columns: [address, area, price, property_status, price_per_m2, bedroom, toilets, floornumber, property_legal, furniture]\n",
       "Index: []"
      ]
     },
     "execution_count": 14,
     "metadata": {},
     "output_type": "execute_result"
    }
   ],
   "source": [
    "df"
   ]
  },
  {
   "cell_type": "code",
   "execution_count": null,
   "metadata": {},
   "outputs": [],
   "source": [
    "# Xuất file csv\n",
    "df.to_csv('chotot-data-1.csv', index = False)"
   ]
  },
  {
   "cell_type": "code",
   "execution_count": null,
   "metadata": {},
   "outputs": [],
   "source": []
  }
 ],
 "metadata": {
  "kernelspec": {
   "display_name": "Python 3 (ipykernel)",
   "language": "python",
   "name": "python3"
  },
  "language_info": {
   "codemirror_mode": {
    "name": "ipython",
    "version": 3
   },
   "file_extension": ".py",
   "mimetype": "text/x-python",
   "name": "python",
   "nbconvert_exporter": "python",
   "pygments_lexer": "ipython3",
   "version": "3.8.0"
  },
  "vscode": {
   "interpreter": {
    "hash": "a4868653bb6f8972e87e4c446ab8a445a15b25dedb8594cc74c480f8152ea86a"
   }
  }
 },
 "nbformat": 4,
 "nbformat_minor": 2
}
