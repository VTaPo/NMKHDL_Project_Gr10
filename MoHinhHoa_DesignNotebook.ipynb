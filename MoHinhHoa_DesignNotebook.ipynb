{
 "cells": [
  {
   "cell_type": "markdown",
   "id": "514aaecb-3ec1-4c63-96e1-5c723f0a0181",
   "metadata": {
    "tags": []
   },
   "source": [
    "<div style=\"text-align: left; background-color:#E9F7EF; font-family:Arial; color:#526085; padding: 12px; line-height:1.25;border-radius:1px; margin-bottom: 0em; text-align: center; font-size: 58px;border-style: solid;border-color: dark green;\">ĐỒ ÁN THỰC HÀNH</div>\n",
    "<div style=\"text-align: left; background-color:#fadefc; font-family: Arial; color:#551184; padding: 12px; line-height:1.25;border-radius:1px; margin-bottom: 0em; text-align: center; font-size: 18px\">| Bộ môn: Nhập môn Khoa học Dữ liệu |</div>"
   ]
  },
  {
   "cell_type": "markdown",
   "id": "1930774c-4e7a-4faf-b19f-b8fb68c52f0c",
   "metadata": {},
   "source": [
    "# <div style=\"text-align: left; background-color:#0C6A86; font-family:Arial; color:white; padding: 12px; line-height:1.25;border-radius:1px; margin-bottom: 0em; text-align: center; font-size: 30px;border-style: solid;border-color: black;\">PHẦN 2. MÔ HÌNH HÓA DỮ LIỆU</div>"
   ]
  },
  {
   "cell_type": "markdown",
   "id": "a6725f42-7af0-46f6-9445-1acc970d8081",
   "metadata": {},
   "source": [
    "<a id=\"top\"></a>\n",
    "<div class=\"list-group\" id=\"list-tab\" role=\"tablist\">\n",
    "    <h3 style=\"text-align: left; background-color: #ACA224; font-family:newtimeroman; color: white; padding: 14px; line-height: 1; border-radius:10px\"><b>Mục lục 📝</b></h3>\n",
    "    \n",
    "   * [I. Bài toán đặt ra](#1)\n",
    "        \n",
    "   * [II. Tiền xử lý dữ liệu](#2)\n",
    "        - [1. Loại những thuộc tính không có ý nghĩa cho việc mô hình hóa](#2.1)\n",
    "        - [2. Chuyển đổi các cột không phải dạng số về dạng số](#2.2)\n",
    "        - [3. Tính correlations và tiếp tục chọn những thuộc tính thật sự có giá trị](#2.3)\n",
    "        - [4. Xử lý các giá trị NaN](#2.4)\n",
    "\n",
    "   * [III. Xây dựng mô hình học máy](#3)\n",
    "        - [1. Hồi quy tuyến tính đơn biến (Univariable Linear Regression)](#3.1)\n",
    "        - [2. Hồi quy tuyến tính đa biến (Linear Regression with Multi Variables)](#3.2)\n",
    "        - [3. Đánh giá mô hình (Evaluation)](#3.3)\n",
    "        - [4. Hồi quy đa thức (Polynomial Regression) đơn giản với đơn biến](#3.4)"
   ]
  },
  {
   "cell_type": "markdown",
   "id": "be112c08-ccab-4d52-8416-8a611c39d92d",
   "metadata": {},
   "source": [
    "<a id=\"1\"></a>\n",
    "## <div style=\"text-align: left; background-color:#ACA224; font-family:newtimeroman;color: white; padding: 14px; line-height: 1;border-radius:10px\">I. Bài toán đặt ra</div>"
   ]
  },
  {
   "cell_type": "markdown",
   "id": "278ee8a6-3500-4f6c-9214-2106e8b6c87d",
   "metadata": {
    "tags": []
   },
   "source": [
    " **<span style='color:#2B9C15'>💬 Tên bài toán </span>** \n",
    " \n",
    " Dự đoán giá bán căn hộ trung cư\n",
    " \n",
    " **<span style='color:#2B9C15'>💬 Giới thiệu chung </span>**\n",
    "\n",
    "- Trong học máy, **học có giám sát** là một nhóm các thuật toán phổ biến trong lĩnh vực này và một trong những vấn đề quan trọng của học có giám sát là hồi quy(regression). Hồi quy là các bài toán liên quan đến việc dự đoán đầu ra có giá trị liên tục (predicting continous valued output).\n",
    "- Và trong bài toán mà nhóm đề ra thì từ những cột thuộc tính đầu vào như diện tích căn hộ, số phòng ngủ, số phòng vệ sinh,.... Nhóm tiến hành dự đoán cột mục tiêu là giá bán của chung cư bằng thuật toán hồi quy tuyến tính (linear regression)."
   ]
  },
  {
   "cell_type": "markdown",
   "id": "7313693a-a379-4ac4-9d55-539cd3d68fbd",
   "metadata": {},
   "source": [
    "<a id=\"2\"></a>\n",
    "## <div style=\"text-align: left; background-color:#ACA224; font-family:newtimeroman;color: white; padding: 14px; line-height: 1;border-radius:10px\">II. Tiền xử lý dữ liệu</div>"
   ]
  },
  {
   "cell_type": "markdown",
   "id": "e8bc9894-ed53-489a-af0b-f3e67d8ea5ec",
   "metadata": {},
   "source": [
    "👉 Trước tên ta cần import và cài đặt một số thư viện cần thiết."
   ]
  },
  {
   "cell_type": "code",
   "execution_count": 1,
   "id": "0a25794f-bd11-44c4-83d6-8b871ca240f0",
   "metadata": {},
   "outputs": [],
   "source": [
    "import numpy as np\n",
    "import pandas as pd\n",
    "\n",
    "import seaborn as sns\n",
    "import matplotlib.pyplot as plt\n",
    "sns.set_theme()\n",
    "\n",
    "# remove warnings\n",
    "import warnings\n",
    "warnings.simplefilter('ignore')\n",
    "\n",
    "sns.set_style(\"white\")\n",
    "sns.set(rc={\"axes.facecolor\":\"#F2EAC5\",\"figure.facecolor\":\"#F2EAC5\"})\n",
    "sns.set_context(\"poster\",font_scale = .7)"
   ]
  },
  {
   "cell_type": "markdown",
   "id": "65239fda-fde0-42b0-822c-372627d4898e",
   "metadata": {},
   "source": [
    "👉 Tiếp đến đọc file `house.csv` (file đã được tiền xử lý ở phần Khám phá dữ liệu) vào dataframe `house_df` và in ra 3 dòng đầu tiên của dataframe."
   ]
  },
  {
   "cell_type": "code",
   "execution_count": 2,
   "id": "8e5ac4db-1a03-477c-a8f1-143802adc336",
   "metadata": {},
   "outputs": [
    {
     "data": {
      "text/html": [
       "<div>\n",
       "<style scoped>\n",
       "    .dataframe tbody tr th:only-of-type {\n",
       "        vertical-align: middle;\n",
       "    }\n",
       "\n",
       "    .dataframe tbody tr th {\n",
       "        vertical-align: top;\n",
       "    }\n",
       "\n",
       "    .dataframe thead th {\n",
       "        text-align: right;\n",
       "    }\n",
       "</style>\n",
       "<table border=\"1\" class=\"dataframe\">\n",
       "  <thead>\n",
       "    <tr style=\"text-align: right;\">\n",
       "      <th></th>\n",
       "      <th>Unnamed: 0</th>\n",
       "      <th>DiaChi</th>\n",
       "      <th>GiaBan</th>\n",
       "      <th>DuAn</th>\n",
       "      <th>DienTich</th>\n",
       "      <th>TinhTrangBDS</th>\n",
       "      <th>Gia/m2</th>\n",
       "      <th>PhongNgu</th>\n",
       "      <th>PhongVeSinh</th>\n",
       "      <th>SoTang</th>\n",
       "      <th>TinhTrangGiayTo</th>\n",
       "      <th>TinhTrangNoiThat</th>\n",
       "      <th>HuongBanCong</th>\n",
       "      <th>HuongCua</th>\n",
       "      <th>DacDiem</th>\n",
       "      <th>Quan</th>\n",
       "    </tr>\n",
       "  </thead>\n",
       "  <tbody>\n",
       "    <tr>\n",
       "      <th>0</th>\n",
       "      <td>0</td>\n",
       "      <td>Đường Huy Cận, Phường Phước Long B (Quận 9 cũ)...</td>\n",
       "      <td>2.35</td>\n",
       "      <td>The Art</td>\n",
       "      <td>66.0</td>\n",
       "      <td>Chưa bàn giao</td>\n",
       "      <td>35.61</td>\n",
       "      <td>2.0</td>\n",
       "      <td>2.0</td>\n",
       "      <td>8.0</td>\n",
       "      <td>Đã có sổ</td>\n",
       "      <td>Nội thất cao cấp</td>\n",
       "      <td>Tây Bắc</td>\n",
       "      <td>Đông Bắc</td>\n",
       "      <td>NaN</td>\n",
       "      <td>Thành phố Thủ Đức</td>\n",
       "    </tr>\n",
       "    <tr>\n",
       "      <th>1</th>\n",
       "      <td>1</td>\n",
       "      <td>số 88, số 88 Đường N1, Phường Sơn Kỳ, Quận Tân...</td>\n",
       "      <td>3.42</td>\n",
       "      <td>Celadon City</td>\n",
       "      <td>71.0</td>\n",
       "      <td>Đã bàn giao</td>\n",
       "      <td>48.17</td>\n",
       "      <td>2.0</td>\n",
       "      <td>2.0</td>\n",
       "      <td>NaN</td>\n",
       "      <td>Đang chờ sổ</td>\n",
       "      <td>Nội thất cao cấp</td>\n",
       "      <td>NaN</td>\n",
       "      <td>NaN</td>\n",
       "      <td>NaN</td>\n",
       "      <td>Quận Tân Phú</td>\n",
       "    </tr>\n",
       "    <tr>\n",
       "      <th>2</th>\n",
       "      <td>2</td>\n",
       "      <td>Võ Văn Kiệt, Phường An Lạc, Quận Bình Tân, Tp ...</td>\n",
       "      <td>2.40</td>\n",
       "      <td>Akari City</td>\n",
       "      <td>56.0</td>\n",
       "      <td>Đã bàn giao</td>\n",
       "      <td>42.86</td>\n",
       "      <td>2.0</td>\n",
       "      <td>NaN</td>\n",
       "      <td>NaN</td>\n",
       "      <td>NaN</td>\n",
       "      <td>NaN</td>\n",
       "      <td>NaN</td>\n",
       "      <td>NaN</td>\n",
       "      <td>NaN</td>\n",
       "      <td>Quận Bình Tân</td>\n",
       "    </tr>\n",
       "  </tbody>\n",
       "</table>\n",
       "</div>"
      ],
      "text/plain": [
       "   Unnamed: 0                                             DiaChi  GiaBan  \\\n",
       "0           0  Đường Huy Cận, Phường Phước Long B (Quận 9 cũ)...    2.35   \n",
       "1           1  số 88, số 88 Đường N1, Phường Sơn Kỳ, Quận Tân...    3.42   \n",
       "2           2  Võ Văn Kiệt, Phường An Lạc, Quận Bình Tân, Tp ...    2.40   \n",
       "\n",
       "           DuAn  DienTich   TinhTrangBDS  Gia/m2  PhongNgu  PhongVeSinh  \\\n",
       "0       The Art      66.0  Chưa bàn giao   35.61       2.0          2.0   \n",
       "1  Celadon City      71.0    Đã bàn giao   48.17       2.0          2.0   \n",
       "2    Akari City      56.0    Đã bàn giao   42.86       2.0          NaN   \n",
       "\n",
       "   SoTang TinhTrangGiayTo  TinhTrangNoiThat HuongBanCong  HuongCua DacDiem  \\\n",
       "0     8.0        Đã có sổ  Nội thất cao cấp      Tây Bắc  Đông Bắc     NaN   \n",
       "1     NaN     Đang chờ sổ  Nội thất cao cấp          NaN       NaN     NaN   \n",
       "2     NaN             NaN               NaN          NaN       NaN     NaN   \n",
       "\n",
       "                 Quan  \n",
       "0   Thành phố Thủ Đức  \n",
       "1        Quận Tân Phú  \n",
       "2       Quận Bình Tân  "
      ]
     },
     "execution_count": 2,
     "metadata": {},
     "output_type": "execute_result"
    }
   ],
   "source": [
    "house_df = pd.read_csv('house.csv')\n",
    "house_df.head(3)"
   ]
  },
  {
   "cell_type": "markdown",
   "id": "d91a6f34-a574-420f-8bba-1cadf5765009",
   "metadata": {},
   "source": [
    "<a id=\"2.1\"></a>\n",
    "### <span style='color:#2B9C15'>1. Loại những thuộc tính không có ý nghĩa cho việc mô hình hóa </span>"
   ]
  },
  {
   "cell_type": "markdown",
   "id": "48d2ef65-4dbb-4e58-a124-902234f5e940",
   "metadata": {},
   "source": [
    "💡 **Một số nhận xét và quyết định**\n",
    "\n",
    "- Như đã quan sát ở phần khám phá dữ liệu: Cột `DiaChi` và `DuAn` chứa các giá trị quá riêng biệt, không có ý nghĩa cho việc trực quan hay phân tích do đó các cột này sẽ không được lựa chọn làm thuộc tính đầu vào.\n",
    "- Cột 'SoTang' thể hiện tầng mà căn hộ tọa lạc trong chung cư, cũng không được lấy do không có nhiều ý nghĩa.\n",
    "- Do cột `Gia/m2` thật ra được tính bằng cách `GiaBan`/`DienTich` nên cũng không có giái trị cho bài toán.\n",
    "- Hầu như cột `DacDiem` của bộ dữ liệu là nan hoặc 'căn góc' do đó cũng có thể loại bỏ thuộc tính này.\n",
    "- Các cột của bộ dữ liệu được giữ lại bao gồm: `GiaBan`, `DienTich`, `TinhTrangBDS`, `PhongNgu`, `PhongVeSinh`, `TinhTrangGiayTo`, `TinhTrangNoiThat`, `HuongCua`, `HuongBanCong`, `Quan`\n",
    "- **Đây là bước loại những thuộc tính có thể thấy ngay về mặt ý nghĩa, sau khi hoàn thành các bước tiền xử lý tiếp theo sẽ thực hiện tính correlation (hệ số tương quan) giữa từng thuộc tính với biến đầu ra để có thể đưa ra những lựa chọn chính xác hơn nữa.**"
   ]
  },
  {
   "cell_type": "markdown",
   "id": "a5004b02-dde1-4975-8169-1b0081795306",
   "metadata": {},
   "source": [
    "👉 Thực hiện lọc ra những cột cần thiết cho bài toán và lưu vào dataframe mới `new_df`."
   ]
  },
  {
   "cell_type": "code",
   "execution_count": 3,
   "id": "4cb7c3fc-2c71-4a0a-ab76-2c9737b5cddd",
   "metadata": {},
   "outputs": [
    {
     "data": {
      "text/html": [
       "<div>\n",
       "<style scoped>\n",
       "    .dataframe tbody tr th:only-of-type {\n",
       "        vertical-align: middle;\n",
       "    }\n",
       "\n",
       "    .dataframe tbody tr th {\n",
       "        vertical-align: top;\n",
       "    }\n",
       "\n",
       "    .dataframe thead th {\n",
       "        text-align: right;\n",
       "    }\n",
       "</style>\n",
       "<table border=\"1\" class=\"dataframe\">\n",
       "  <thead>\n",
       "    <tr style=\"text-align: right;\">\n",
       "      <th></th>\n",
       "      <th>GiaBan</th>\n",
       "      <th>DienTich</th>\n",
       "      <th>TinhTrangBDS</th>\n",
       "      <th>PhongNgu</th>\n",
       "      <th>PhongVeSinh</th>\n",
       "      <th>TinhTrangGiayTo</th>\n",
       "      <th>TinhTrangNoiThat</th>\n",
       "      <th>HuongBanCong</th>\n",
       "      <th>HuongCua</th>\n",
       "      <th>Quan</th>\n",
       "    </tr>\n",
       "  </thead>\n",
       "  <tbody>\n",
       "    <tr>\n",
       "      <th>0</th>\n",
       "      <td>2.35</td>\n",
       "      <td>66.0</td>\n",
       "      <td>Chưa bàn giao</td>\n",
       "      <td>2.0</td>\n",
       "      <td>2.0</td>\n",
       "      <td>Đã có sổ</td>\n",
       "      <td>Nội thất cao cấp</td>\n",
       "      <td>Tây Bắc</td>\n",
       "      <td>Đông Bắc</td>\n",
       "      <td>Thành phố Thủ Đức</td>\n",
       "    </tr>\n",
       "    <tr>\n",
       "      <th>1</th>\n",
       "      <td>3.42</td>\n",
       "      <td>71.0</td>\n",
       "      <td>Đã bàn giao</td>\n",
       "      <td>2.0</td>\n",
       "      <td>2.0</td>\n",
       "      <td>Đang chờ sổ</td>\n",
       "      <td>Nội thất cao cấp</td>\n",
       "      <td>NaN</td>\n",
       "      <td>NaN</td>\n",
       "      <td>Quận Tân Phú</td>\n",
       "    </tr>\n",
       "    <tr>\n",
       "      <th>2</th>\n",
       "      <td>2.40</td>\n",
       "      <td>56.0</td>\n",
       "      <td>Đã bàn giao</td>\n",
       "      <td>2.0</td>\n",
       "      <td>NaN</td>\n",
       "      <td>NaN</td>\n",
       "      <td>NaN</td>\n",
       "      <td>NaN</td>\n",
       "      <td>NaN</td>\n",
       "      <td>Quận Bình Tân</td>\n",
       "    </tr>\n",
       "    <tr>\n",
       "      <th>3</th>\n",
       "      <td>7.50</td>\n",
       "      <td>107.0</td>\n",
       "      <td>Đã bàn giao</td>\n",
       "      <td>3.0</td>\n",
       "      <td>NaN</td>\n",
       "      <td>NaN</td>\n",
       "      <td>NaN</td>\n",
       "      <td>NaN</td>\n",
       "      <td>NaN</td>\n",
       "      <td>Thành phố Thủ Đức</td>\n",
       "    </tr>\n",
       "    <tr>\n",
       "      <th>4</th>\n",
       "      <td>3.10</td>\n",
       "      <td>75.0</td>\n",
       "      <td>Chưa bàn giao</td>\n",
       "      <td>2.0</td>\n",
       "      <td>2.0</td>\n",
       "      <td>NaN</td>\n",
       "      <td>NaN</td>\n",
       "      <td>NaN</td>\n",
       "      <td>NaN</td>\n",
       "      <td>Quận Bình Tân</td>\n",
       "    </tr>\n",
       "  </tbody>\n",
       "</table>\n",
       "</div>"
      ],
      "text/plain": [
       "   GiaBan  DienTich   TinhTrangBDS  PhongNgu  PhongVeSinh TinhTrangGiayTo  \\\n",
       "0    2.35      66.0  Chưa bàn giao       2.0          2.0        Đã có sổ   \n",
       "1    3.42      71.0    Đã bàn giao       2.0          2.0     Đang chờ sổ   \n",
       "2    2.40      56.0    Đã bàn giao       2.0          NaN             NaN   \n",
       "3    7.50     107.0    Đã bàn giao       3.0          NaN             NaN   \n",
       "4    3.10      75.0  Chưa bàn giao       2.0          2.0             NaN   \n",
       "\n",
       "   TinhTrangNoiThat HuongBanCong  HuongCua                Quan  \n",
       "0  Nội thất cao cấp      Tây Bắc  Đông Bắc   Thành phố Thủ Đức  \n",
       "1  Nội thất cao cấp          NaN       NaN        Quận Tân Phú  \n",
       "2               NaN          NaN       NaN       Quận Bình Tân  \n",
       "3               NaN          NaN       NaN   Thành phố Thủ Đức  \n",
       "4               NaN          NaN       NaN       Quận Bình Tân  "
      ]
     },
     "execution_count": 3,
     "metadata": {},
     "output_type": "execute_result"
    }
   ],
   "source": [
    "new_df=house_df[['GiaBan', 'DienTich', 'TinhTrangBDS', 'PhongNgu', 'PhongVeSinh', 'TinhTrangGiayTo',\n",
    "                 'TinhTrangNoiThat', 'HuongBanCong', 'HuongCua', 'Quan']]\n",
    "new_df.head()"
   ]
  },
  {
   "cell_type": "markdown",
   "id": "fdad3e6a-f3d7-42cf-985c-ca42379e16a2",
   "metadata": {},
   "source": [
    "👉 Từ bước này, chúng ta sẽ sử dụng `new_df` xuyên suốt quá trình thực hiện bài toán."
   ]
  },
  {
   "cell_type": "markdown",
   "id": "b0763388-f8c8-4d14-b16c-56e7caebab91",
   "metadata": {},
   "source": [
    "<a id=\"2.2\"></a>\n",
    "### <span style='color:#2B9C15'>2. Chuyển đổi các cột không phải dạng số về dạng số </span>"
   ]
  },
  {
   "cell_type": "markdown",
   "id": "32fd3b4e-a64c-401a-b2d1-865689d7d0fc",
   "metadata": {},
   "source": [
    "👉 Chuyển các cột `TinhTrangBDS`, `TinhTrangGiayTo`, `TinhTrangNoiThat`, `HuongBanCong`, `HuongCua`, `Quan` về dạng số để làm đầu vào cho mô hình học máy, tuy nhiên các cột có dạng số này vẫn mang ý nghĩa phân loại."
   ]
  },
  {
   "cell_type": "code",
   "execution_count": 4,
   "id": "51ee4129-e6a7-4eed-bd5a-4d8e710f66b8",
   "metadata": {},
   "outputs": [
    {
     "data": {
      "text/html": [
       "<div>\n",
       "<style scoped>\n",
       "    .dataframe tbody tr th:only-of-type {\n",
       "        vertical-align: middle;\n",
       "    }\n",
       "\n",
       "    .dataframe tbody tr th {\n",
       "        vertical-align: top;\n",
       "    }\n",
       "\n",
       "    .dataframe thead th {\n",
       "        text-align: right;\n",
       "    }\n",
       "</style>\n",
       "<table border=\"1\" class=\"dataframe\">\n",
       "  <thead>\n",
       "    <tr style=\"text-align: right;\">\n",
       "      <th></th>\n",
       "      <th>GiaBan</th>\n",
       "      <th>DienTich</th>\n",
       "      <th>TinhTrangBDS</th>\n",
       "      <th>PhongNgu</th>\n",
       "      <th>PhongVeSinh</th>\n",
       "      <th>TinhTrangGiayTo</th>\n",
       "      <th>TinhTrangNoiThat</th>\n",
       "      <th>HuongBanCong</th>\n",
       "      <th>HuongCua</th>\n",
       "      <th>Quan</th>\n",
       "    </tr>\n",
       "  </thead>\n",
       "  <tbody>\n",
       "    <tr>\n",
       "      <th>0</th>\n",
       "      <td>2.35</td>\n",
       "      <td>66.0</td>\n",
       "      <td>0.0</td>\n",
       "      <td>2.0</td>\n",
       "      <td>2.0</td>\n",
       "      <td>2.0</td>\n",
       "      <td>2.0</td>\n",
       "      <td>3.0</td>\n",
       "      <td>6.0</td>\n",
       "      <td>18.0</td>\n",
       "    </tr>\n",
       "    <tr>\n",
       "      <th>1</th>\n",
       "      <td>3.42</td>\n",
       "      <td>71.0</td>\n",
       "      <td>1.0</td>\n",
       "      <td>2.0</td>\n",
       "      <td>2.0</td>\n",
       "      <td>1.0</td>\n",
       "      <td>2.0</td>\n",
       "      <td>NaN</td>\n",
       "      <td>NaN</td>\n",
       "      <td>17.0</td>\n",
       "    </tr>\n",
       "    <tr>\n",
       "      <th>2</th>\n",
       "      <td>2.40</td>\n",
       "      <td>56.0</td>\n",
       "      <td>1.0</td>\n",
       "      <td>2.0</td>\n",
       "      <td>NaN</td>\n",
       "      <td>NaN</td>\n",
       "      <td>NaN</td>\n",
       "      <td>NaN</td>\n",
       "      <td>NaN</td>\n",
       "      <td>13.0</td>\n",
       "    </tr>\n",
       "    <tr>\n",
       "      <th>3</th>\n",
       "      <td>7.50</td>\n",
       "      <td>107.0</td>\n",
       "      <td>1.0</td>\n",
       "      <td>3.0</td>\n",
       "      <td>NaN</td>\n",
       "      <td>NaN</td>\n",
       "      <td>NaN</td>\n",
       "      <td>NaN</td>\n",
       "      <td>NaN</td>\n",
       "      <td>18.0</td>\n",
       "    </tr>\n",
       "    <tr>\n",
       "      <th>4</th>\n",
       "      <td>3.10</td>\n",
       "      <td>75.0</td>\n",
       "      <td>0.0</td>\n",
       "      <td>2.0</td>\n",
       "      <td>2.0</td>\n",
       "      <td>NaN</td>\n",
       "      <td>NaN</td>\n",
       "      <td>NaN</td>\n",
       "      <td>NaN</td>\n",
       "      <td>13.0</td>\n",
       "    </tr>\n",
       "    <tr>\n",
       "      <th>5</th>\n",
       "      <td>5.70</td>\n",
       "      <td>104.0</td>\n",
       "      <td>1.0</td>\n",
       "      <td>3.0</td>\n",
       "      <td>2.0</td>\n",
       "      <td>NaN</td>\n",
       "      <td>NaN</td>\n",
       "      <td>7.0</td>\n",
       "      <td>NaN</td>\n",
       "      <td>17.0</td>\n",
       "    </tr>\n",
       "    <tr>\n",
       "      <th>6</th>\n",
       "      <td>3.00</td>\n",
       "      <td>60.0</td>\n",
       "      <td>1.0</td>\n",
       "      <td>2.0</td>\n",
       "      <td>1.0</td>\n",
       "      <td>NaN</td>\n",
       "      <td>NaN</td>\n",
       "      <td>NaN</td>\n",
       "      <td>NaN</td>\n",
       "      <td>18.0</td>\n",
       "    </tr>\n",
       "    <tr>\n",
       "      <th>7</th>\n",
       "      <td>1.79</td>\n",
       "      <td>72.0</td>\n",
       "      <td>1.0</td>\n",
       "      <td>2.0</td>\n",
       "      <td>NaN</td>\n",
       "      <td>2.0</td>\n",
       "      <td>3.0</td>\n",
       "      <td>NaN</td>\n",
       "      <td>NaN</td>\n",
       "      <td>1.0</td>\n",
       "    </tr>\n",
       "    <tr>\n",
       "      <th>8</th>\n",
       "      <td>4.10</td>\n",
       "      <td>97.0</td>\n",
       "      <td>1.0</td>\n",
       "      <td>3.0</td>\n",
       "      <td>2.0</td>\n",
       "      <td>NaN</td>\n",
       "      <td>NaN</td>\n",
       "      <td>NaN</td>\n",
       "      <td>NaN</td>\n",
       "      <td>13.0</td>\n",
       "    </tr>\n",
       "    <tr>\n",
       "      <th>9</th>\n",
       "      <td>2.30</td>\n",
       "      <td>60.0</td>\n",
       "      <td>1.0</td>\n",
       "      <td>2.0</td>\n",
       "      <td>1.0</td>\n",
       "      <td>NaN</td>\n",
       "      <td>NaN</td>\n",
       "      <td>NaN</td>\n",
       "      <td>NaN</td>\n",
       "      <td>18.0</td>\n",
       "    </tr>\n",
       "    <tr>\n",
       "      <th>10</th>\n",
       "      <td>2.23</td>\n",
       "      <td>90.0</td>\n",
       "      <td>1.0</td>\n",
       "      <td>2.0</td>\n",
       "      <td>2.0</td>\n",
       "      <td>2.0</td>\n",
       "      <td>1.0</td>\n",
       "      <td>6.0</td>\n",
       "      <td>3.0</td>\n",
       "      <td>5.0</td>\n",
       "    </tr>\n",
       "    <tr>\n",
       "      <th>11</th>\n",
       "      <td>2.25</td>\n",
       "      <td>100.0</td>\n",
       "      <td>1.0</td>\n",
       "      <td>2.0</td>\n",
       "      <td>2.0</td>\n",
       "      <td>2.0</td>\n",
       "      <td>NaN</td>\n",
       "      <td>7.0</td>\n",
       "      <td>3.0</td>\n",
       "      <td>1.0</td>\n",
       "    </tr>\n",
       "    <tr>\n",
       "      <th>12</th>\n",
       "      <td>5.00</td>\n",
       "      <td>77.5</td>\n",
       "      <td>0.0</td>\n",
       "      <td>2.0</td>\n",
       "      <td>2.0</td>\n",
       "      <td>1.0</td>\n",
       "      <td>1.0</td>\n",
       "      <td>7.0</td>\n",
       "      <td>2.0</td>\n",
       "      <td>10.0</td>\n",
       "    </tr>\n",
       "  </tbody>\n",
       "</table>\n",
       "</div>"
      ],
      "text/plain": [
       "    GiaBan  DienTich  TinhTrangBDS  PhongNgu  PhongVeSinh  TinhTrangGiayTo  \\\n",
       "0     2.35      66.0           0.0       2.0          2.0              2.0   \n",
       "1     3.42      71.0           1.0       2.0          2.0              1.0   \n",
       "2     2.40      56.0           1.0       2.0          NaN              NaN   \n",
       "3     7.50     107.0           1.0       3.0          NaN              NaN   \n",
       "4     3.10      75.0           0.0       2.0          2.0              NaN   \n",
       "5     5.70     104.0           1.0       3.0          2.0              NaN   \n",
       "6     3.00      60.0           1.0       2.0          1.0              NaN   \n",
       "7     1.79      72.0           1.0       2.0          NaN              2.0   \n",
       "8     4.10      97.0           1.0       3.0          2.0              NaN   \n",
       "9     2.30      60.0           1.0       2.0          1.0              NaN   \n",
       "10    2.23      90.0           1.0       2.0          2.0              2.0   \n",
       "11    2.25     100.0           1.0       2.0          2.0              2.0   \n",
       "12    5.00      77.5           0.0       2.0          2.0              1.0   \n",
       "\n",
       "    TinhTrangNoiThat  HuongBanCong  HuongCua  Quan  \n",
       "0                2.0           3.0       6.0  18.0  \n",
       "1                2.0           NaN       NaN  17.0  \n",
       "2                NaN           NaN       NaN  13.0  \n",
       "3                NaN           NaN       NaN  18.0  \n",
       "4                NaN           NaN       NaN  13.0  \n",
       "5                NaN           7.0       NaN  17.0  \n",
       "6                NaN           NaN       NaN  18.0  \n",
       "7                3.0           NaN       NaN   1.0  \n",
       "8                NaN           NaN       NaN  13.0  \n",
       "9                NaN           NaN       NaN  18.0  \n",
       "10               1.0           6.0       3.0   5.0  \n",
       "11               NaN           7.0       3.0   1.0  \n",
       "12               1.0           7.0       2.0  10.0  "
      ]
     },
     "execution_count": 4,
     "metadata": {},
     "output_type": "execute_result"
    }
   ],
   "source": [
    "from sklearn.preprocessing import OrdinalEncoder\n",
    "enc = OrdinalEncoder()\n",
    "new_df[['TinhTrangBDS', 'TinhTrangGiayTo', 'TinhTrangNoiThat', 'HuongBanCong',\n",
    "      'HuongCua', 'Quan']]=enc.fit_transform(np.array(new_df[['TinhTrangBDS', 'TinhTrangGiayTo',\n",
    "                                                            'TinhTrangNoiThat', 'HuongBanCong',\n",
    "                                                            'HuongCua', 'Quan']]))\n",
    "new_df[:13]"
   ]
  },
  {
   "cell_type": "markdown",
   "id": "25c85575-7a01-4c64-8bfb-fbd3841de907",
   "metadata": {},
   "source": [
    "<a id=\"2.3\"></a>\n",
    "### <span style='color:#2B9C15'>3. Tính Correlations và tiếp tục chọn những thuộc tính thật sự có giá trị</span>"
   ]
  },
  {
   "cell_type": "code",
   "execution_count": 5,
   "id": "b43fde50-1ade-4bf0-963e-fc0f75849c55",
   "metadata": {},
   "outputs": [
    {
     "data": {
      "text/plain": [
       "GiaBan                0\n",
       "DienTich              0\n",
       "TinhTrangBDS          1\n",
       "PhongNgu              0\n",
       "PhongVeSinh         189\n",
       "TinhTrangGiayTo     564\n",
       "TinhTrangNoiThat    609\n",
       "HuongBanCong        850\n",
       "HuongCua            904\n",
       "Quan                  0\n",
       "dtype: int64"
      ]
     },
     "execution_count": 5,
     "metadata": {},
     "output_type": "execute_result"
    }
   ],
   "source": [
    "#Quan sát số lượng null ở các thuộc tính.\n",
    "new_df.isnull().sum()"
   ]
  },
  {
   "cell_type": "markdown",
   "id": "58d9946e-27b5-459b-83f6-a1558d1c8d03",
   "metadata": {},
   "source": [
    "**Như đã đề cập ở phần 1: Sau khi hoàn thành chuyển đổi hết các thuộc tính về dạng số, tiến hành tính correlations giữa từng thuộc tính và biến đầu ra:**\n",
    "- Correlation là một thuật ngữ thống kê được sử dụng phổ biến đề cập đến mức độ liên quan của hai biến để có mối quan hệ tuyến tính với nhau hay không.\n",
    "- Correlation cao nhất có giá trị là 1 (hai biến hoàn toàn có quan hệ tuyến tính) và thấp nhất dần nếu hai biến càng không có quan hệ tuyến tính.\n",
    "- Nhóm sẽ tạo một dataframe tên là 'correlations' chứa các correlations của từng cột trong bộ dữ liệu để dễ dàng nhận xét mức độ tương quan giữa các biến."
   ]
  },
  {
   "cell_type": "code",
   "execution_count": 6,
   "id": "8d216bb3-8f11-4fb1-b62b-59a6d049af92",
   "metadata": {},
   "outputs": [],
   "source": [
    "correlations = pd.DataFrame(new_df, columns=['GiaBan', 'DienTich', 'TinhTrangBDS', 'PhongNgu', 'PhongVeSinh', 'TinhTrangGiayTo',\n",
    "                 'TinhTrangNoiThat', 'HuongBanCong', 'HuongCua', 'Quan']).corr()"
   ]
  },
  {
   "cell_type": "code",
   "execution_count": 7,
   "id": "c8bd0371-ab1b-45dc-8e6d-c2127ec2a19b",
   "metadata": {},
   "outputs": [
    {
     "data": {
      "text/html": [
       "<div>\n",
       "<style scoped>\n",
       "    .dataframe tbody tr th:only-of-type {\n",
       "        vertical-align: middle;\n",
       "    }\n",
       "\n",
       "    .dataframe tbody tr th {\n",
       "        vertical-align: top;\n",
       "    }\n",
       "\n",
       "    .dataframe thead th {\n",
       "        text-align: right;\n",
       "    }\n",
       "</style>\n",
       "<table border=\"1\" class=\"dataframe\">\n",
       "  <thead>\n",
       "    <tr style=\"text-align: right;\">\n",
       "      <th></th>\n",
       "      <th>GiaBan</th>\n",
       "      <th>DienTich</th>\n",
       "      <th>TinhTrangBDS</th>\n",
       "      <th>PhongNgu</th>\n",
       "      <th>PhongVeSinh</th>\n",
       "      <th>TinhTrangGiayTo</th>\n",
       "      <th>TinhTrangNoiThat</th>\n",
       "      <th>HuongBanCong</th>\n",
       "      <th>HuongCua</th>\n",
       "      <th>Quan</th>\n",
       "    </tr>\n",
       "  </thead>\n",
       "  <tbody>\n",
       "    <tr>\n",
       "      <th>GiaBan</th>\n",
       "      <td>1.000000</td>\n",
       "      <td>0.613350</td>\n",
       "      <td>0.014275</td>\n",
       "      <td>0.353599</td>\n",
       "      <td>0.357159</td>\n",
       "      <td>-0.105532</td>\n",
       "      <td>-0.061317</td>\n",
       "      <td>-0.045281</td>\n",
       "      <td>0.170083</td>\n",
       "      <td>0.073864</td>\n",
       "    </tr>\n",
       "    <tr>\n",
       "      <th>DienTich</th>\n",
       "      <td>0.613350</td>\n",
       "      <td>1.000000</td>\n",
       "      <td>0.020223</td>\n",
       "      <td>0.654750</td>\n",
       "      <td>0.574810</td>\n",
       "      <td>-0.016750</td>\n",
       "      <td>-0.064017</td>\n",
       "      <td>-0.137199</td>\n",
       "      <td>0.127175</td>\n",
       "      <td>-0.034043</td>\n",
       "    </tr>\n",
       "    <tr>\n",
       "      <th>TinhTrangBDS</th>\n",
       "      <td>0.014275</td>\n",
       "      <td>0.020223</td>\n",
       "      <td>1.000000</td>\n",
       "      <td>0.012798</td>\n",
       "      <td>0.032942</td>\n",
       "      <td>0.108626</td>\n",
       "      <td>0.150590</td>\n",
       "      <td>-0.032178</td>\n",
       "      <td>-0.027074</td>\n",
       "      <td>0.031901</td>\n",
       "    </tr>\n",
       "    <tr>\n",
       "      <th>PhongNgu</th>\n",
       "      <td>0.353599</td>\n",
       "      <td>0.654750</td>\n",
       "      <td>0.012798</td>\n",
       "      <td>1.000000</td>\n",
       "      <td>0.661618</td>\n",
       "      <td>0.024860</td>\n",
       "      <td>0.039637</td>\n",
       "      <td>-0.114055</td>\n",
       "      <td>0.064777</td>\n",
       "      <td>-0.009250</td>\n",
       "    </tr>\n",
       "    <tr>\n",
       "      <th>PhongVeSinh</th>\n",
       "      <td>0.357159</td>\n",
       "      <td>0.574810</td>\n",
       "      <td>0.032942</td>\n",
       "      <td>0.661618</td>\n",
       "      <td>1.000000</td>\n",
       "      <td>0.022630</td>\n",
       "      <td>0.053418</td>\n",
       "      <td>-0.162680</td>\n",
       "      <td>0.098910</td>\n",
       "      <td>-0.031655</td>\n",
       "    </tr>\n",
       "    <tr>\n",
       "      <th>TinhTrangGiayTo</th>\n",
       "      <td>-0.105532</td>\n",
       "      <td>-0.016750</td>\n",
       "      <td>0.108626</td>\n",
       "      <td>0.024860</td>\n",
       "      <td>0.022630</td>\n",
       "      <td>1.000000</td>\n",
       "      <td>0.282358</td>\n",
       "      <td>-0.024203</td>\n",
       "      <td>0.076818</td>\n",
       "      <td>-0.075298</td>\n",
       "    </tr>\n",
       "    <tr>\n",
       "      <th>TinhTrangNoiThat</th>\n",
       "      <td>-0.061317</td>\n",
       "      <td>-0.064017</td>\n",
       "      <td>0.150590</td>\n",
       "      <td>0.039637</td>\n",
       "      <td>0.053418</td>\n",
       "      <td>0.282358</td>\n",
       "      <td>1.000000</td>\n",
       "      <td>-0.093707</td>\n",
       "      <td>-0.071870</td>\n",
       "      <td>0.097015</td>\n",
       "    </tr>\n",
       "    <tr>\n",
       "      <th>HuongBanCong</th>\n",
       "      <td>-0.045281</td>\n",
       "      <td>-0.137199</td>\n",
       "      <td>-0.032178</td>\n",
       "      <td>-0.114055</td>\n",
       "      <td>-0.162680</td>\n",
       "      <td>-0.024203</td>\n",
       "      <td>-0.093707</td>\n",
       "      <td>1.000000</td>\n",
       "      <td>0.228573</td>\n",
       "      <td>0.147705</td>\n",
       "    </tr>\n",
       "    <tr>\n",
       "      <th>HuongCua</th>\n",
       "      <td>0.170083</td>\n",
       "      <td>0.127175</td>\n",
       "      <td>-0.027074</td>\n",
       "      <td>0.064777</td>\n",
       "      <td>0.098910</td>\n",
       "      <td>0.076818</td>\n",
       "      <td>-0.071870</td>\n",
       "      <td>0.228573</td>\n",
       "      <td>1.000000</td>\n",
       "      <td>0.070755</td>\n",
       "    </tr>\n",
       "    <tr>\n",
       "      <th>Quan</th>\n",
       "      <td>0.073864</td>\n",
       "      <td>-0.034043</td>\n",
       "      <td>0.031901</td>\n",
       "      <td>-0.009250</td>\n",
       "      <td>-0.031655</td>\n",
       "      <td>-0.075298</td>\n",
       "      <td>0.097015</td>\n",
       "      <td>0.147705</td>\n",
       "      <td>0.070755</td>\n",
       "      <td>1.000000</td>\n",
       "    </tr>\n",
       "  </tbody>\n",
       "</table>\n",
       "</div>"
      ],
      "text/plain": [
       "                    GiaBan  DienTich  TinhTrangBDS  PhongNgu  PhongVeSinh  \\\n",
       "GiaBan            1.000000  0.613350      0.014275  0.353599     0.357159   \n",
       "DienTich          0.613350  1.000000      0.020223  0.654750     0.574810   \n",
       "TinhTrangBDS      0.014275  0.020223      1.000000  0.012798     0.032942   \n",
       "PhongNgu          0.353599  0.654750      0.012798  1.000000     0.661618   \n",
       "PhongVeSinh       0.357159  0.574810      0.032942  0.661618     1.000000   \n",
       "TinhTrangGiayTo  -0.105532 -0.016750      0.108626  0.024860     0.022630   \n",
       "TinhTrangNoiThat -0.061317 -0.064017      0.150590  0.039637     0.053418   \n",
       "HuongBanCong     -0.045281 -0.137199     -0.032178 -0.114055    -0.162680   \n",
       "HuongCua          0.170083  0.127175     -0.027074  0.064777     0.098910   \n",
       "Quan              0.073864 -0.034043      0.031901 -0.009250    -0.031655   \n",
       "\n",
       "                  TinhTrangGiayTo  TinhTrangNoiThat  HuongBanCong  HuongCua  \\\n",
       "GiaBan                  -0.105532         -0.061317     -0.045281  0.170083   \n",
       "DienTich                -0.016750         -0.064017     -0.137199  0.127175   \n",
       "TinhTrangBDS             0.108626          0.150590     -0.032178 -0.027074   \n",
       "PhongNgu                 0.024860          0.039637     -0.114055  0.064777   \n",
       "PhongVeSinh              0.022630          0.053418     -0.162680  0.098910   \n",
       "TinhTrangGiayTo          1.000000          0.282358     -0.024203  0.076818   \n",
       "TinhTrangNoiThat         0.282358          1.000000     -0.093707 -0.071870   \n",
       "HuongBanCong            -0.024203         -0.093707      1.000000  0.228573   \n",
       "HuongCua                 0.076818         -0.071870      0.228573  1.000000   \n",
       "Quan                    -0.075298          0.097015      0.147705  0.070755   \n",
       "\n",
       "                      Quan  \n",
       "GiaBan            0.073864  \n",
       "DienTich         -0.034043  \n",
       "TinhTrangBDS      0.031901  \n",
       "PhongNgu         -0.009250  \n",
       "PhongVeSinh      -0.031655  \n",
       "TinhTrangGiayTo  -0.075298  \n",
       "TinhTrangNoiThat  0.097015  \n",
       "HuongBanCong      0.147705  \n",
       "HuongCua          0.070755  \n",
       "Quan              1.000000  "
      ]
     },
     "execution_count": 7,
     "metadata": {},
     "output_type": "execute_result"
    }
   ],
   "source": [
    "correlations"
   ]
  },
  {
   "cell_type": "markdown",
   "id": "f537f0ca-1acf-4e6a-9348-b998108d6f2c",
   "metadata": {},
   "source": [
    "- Các thuộc tính 'TinhTrangGiayTo', 'TinhTrangNoiThat', 'HuongBanCong', 'HuongCua' có rất nhiều giá trị NaN, hơn phân nữa mẫu dữ liệu thu thập của các thuộc tính này đều mang giá trị NaN, chứng tỏ nhiều chủ bài đăng không quan tâm đến những thuộc tính này. Và đối với những mẫu có giá trị cụ thể cũng không mang một ý nghĩa tuyến tính nào với cột 'GiaBan' do correlation rất thấp. Không lựa chọn những thuộc tính này cho việc mô hình hóa.\n",
    "- Hai thuộc tính 'Quan' và 'TinhTrangBDS' có correlation cũng thấp, chứng tỏ không ảnh hưởng đến 'GiaBan'.\n",
    "- Các thuộc tính được giữ lại: 'GiaBan', 'DienTich', 'PhongNgu', 'PhongVeSinh'."
   ]
  },
  {
   "cell_type": "code",
   "execution_count": 8,
   "id": "90368c60-ea76-40b9-919c-bf70c3a2292f",
   "metadata": {},
   "outputs": [
    {
     "data": {
      "text/html": [
       "<div>\n",
       "<style scoped>\n",
       "    .dataframe tbody tr th:only-of-type {\n",
       "        vertical-align: middle;\n",
       "    }\n",
       "\n",
       "    .dataframe tbody tr th {\n",
       "        vertical-align: top;\n",
       "    }\n",
       "\n",
       "    .dataframe thead th {\n",
       "        text-align: right;\n",
       "    }\n",
       "</style>\n",
       "<table border=\"1\" class=\"dataframe\">\n",
       "  <thead>\n",
       "    <tr style=\"text-align: right;\">\n",
       "      <th></th>\n",
       "      <th>GiaBan</th>\n",
       "      <th>DienTich</th>\n",
       "      <th>PhongNgu</th>\n",
       "      <th>PhongVeSinh</th>\n",
       "    </tr>\n",
       "  </thead>\n",
       "  <tbody>\n",
       "    <tr>\n",
       "      <th>0</th>\n",
       "      <td>2.35</td>\n",
       "      <td>66.0</td>\n",
       "      <td>2.0</td>\n",
       "      <td>2.0</td>\n",
       "    </tr>\n",
       "    <tr>\n",
       "      <th>1</th>\n",
       "      <td>3.42</td>\n",
       "      <td>71.0</td>\n",
       "      <td>2.0</td>\n",
       "      <td>2.0</td>\n",
       "    </tr>\n",
       "    <tr>\n",
       "      <th>2</th>\n",
       "      <td>2.40</td>\n",
       "      <td>56.0</td>\n",
       "      <td>2.0</td>\n",
       "      <td>NaN</td>\n",
       "    </tr>\n",
       "    <tr>\n",
       "      <th>3</th>\n",
       "      <td>7.50</td>\n",
       "      <td>107.0</td>\n",
       "      <td>3.0</td>\n",
       "      <td>NaN</td>\n",
       "    </tr>\n",
       "    <tr>\n",
       "      <th>4</th>\n",
       "      <td>3.10</td>\n",
       "      <td>75.0</td>\n",
       "      <td>2.0</td>\n",
       "      <td>2.0</td>\n",
       "    </tr>\n",
       "  </tbody>\n",
       "</table>\n",
       "</div>"
      ],
      "text/plain": [
       "   GiaBan  DienTich  PhongNgu  PhongVeSinh\n",
       "0    2.35      66.0       2.0          2.0\n",
       "1    3.42      71.0       2.0          2.0\n",
       "2    2.40      56.0       2.0          NaN\n",
       "3    7.50     107.0       3.0          NaN\n",
       "4    3.10      75.0       2.0          2.0"
      ]
     },
     "execution_count": 8,
     "metadata": {},
     "output_type": "execute_result"
    }
   ],
   "source": [
    "new_df=new_df[['GiaBan', 'DienTich', 'PhongNgu', 'PhongVeSinh']]\n",
    "new_df.head()"
   ]
  },
  {
   "cell_type": "markdown",
   "id": "11f43b28-1fe5-4c4a-95cd-756bb9db77d8",
   "metadata": {},
   "source": [
    "<a id=\"2.4\"></a>\n",
    "### <span style='color:#2B9C15'>4. Xử lý các giá trị NaN</span>"
   ]
  },
  {
   "cell_type": "markdown",
   "id": "14104eaf-16a5-4ce8-b0c5-c0216381f0d1",
   "metadata": {},
   "source": [
    "🗺️ **Thổng kê phân bố của 'PhongVeSinh'.**"
   ]
  },
  {
   "cell_type": "code",
   "execution_count": 9,
   "id": "579e2ab5-2381-4e6b-b7f2-cd85120de9cf",
   "metadata": {},
   "outputs": [
    {
     "data": {
      "image/png": "[encoded data removed]",
      "text/plain": [
       "<Figure size 432x288 with 1 Axes>"
      ]
     },
     "metadata": {
      "needs_background": "light"
     },
     "output_type": "display_data"
    }
   ],
   "source": [
    "veSinh=new_df['PhongVeSinh'].value_counts()\n",
    "sns.barplot(veSinh,veSinh.values,veSinh.index);"
   ]
  },
  {
   "cell_type": "markdown",
   "id": "fdb7f517-79b7-4d99-838a-1ce1705344e2",
   "metadata": {},
   "source": [
    "💡 **Một số nhận xét và quyết định**\n",
    "\n",
    "- Đối với bộ dữ liệu này mỗi cột có số lượng giá trị thiếu khá nhiều do đó việc bỏ đi các dòng chứa giá trị nan có thể gây ảnh hưởng lớn đến tính chính xác khi tiến hành học trên bộ dữ liệu do thiếu thông tin.\n",
    "- Giải pháp có thể sử dụng là thay thế giá trị NaN bằng các giá trị đặc biệt của cột dữ liệu chẳng hạn: trung bình, trung vị, most, ....\n",
    "- Nhóm sẽ sử dụng giá trị median để thay thế các giá trị NaN cho thuộc tính 'DienTich', do dữ liệu về thuộc tính diện tích có thể có tồn tại điểm ngoại lệ có giá trị quá lớn nên việc dùng giá trị mean có thể gây ra sai sót. Và dùng giá trị most_frequent để thay thế các giá trị NaN cho thuộc tính 'PhongVeSinh' và 'HuongCua'."
   ]
  },
  {
   "cell_type": "code",
   "execution_count": 10,
   "id": "444f5660-f670-49fb-b35a-23593bc5e62b",
   "metadata": {},
   "outputs": [
    {
     "data": {
      "text/html": [
       "<div>\n",
       "<style scoped>\n",
       "    .dataframe tbody tr th:only-of-type {\n",
       "        vertical-align: middle;\n",
       "    }\n",
       "\n",
       "    .dataframe tbody tr th {\n",
       "        vertical-align: top;\n",
       "    }\n",
       "\n",
       "    .dataframe thead th {\n",
       "        text-align: right;\n",
       "    }\n",
       "</style>\n",
       "<table border=\"1\" class=\"dataframe\">\n",
       "  <thead>\n",
       "    <tr style=\"text-align: right;\">\n",
       "      <th></th>\n",
       "      <th>GiaBan</th>\n",
       "      <th>DienTich</th>\n",
       "      <th>PhongNgu</th>\n",
       "      <th>PhongVeSinh</th>\n",
       "    </tr>\n",
       "  </thead>\n",
       "  <tbody>\n",
       "    <tr>\n",
       "      <th>0</th>\n",
       "      <td>2.35</td>\n",
       "      <td>66.0</td>\n",
       "      <td>2.0</td>\n",
       "      <td>2.0</td>\n",
       "    </tr>\n",
       "    <tr>\n",
       "      <th>1</th>\n",
       "      <td>3.42</td>\n",
       "      <td>71.0</td>\n",
       "      <td>2.0</td>\n",
       "      <td>2.0</td>\n",
       "    </tr>\n",
       "    <tr>\n",
       "      <th>2</th>\n",
       "      <td>2.40</td>\n",
       "      <td>56.0</td>\n",
       "      <td>2.0</td>\n",
       "      <td>2.0</td>\n",
       "    </tr>\n",
       "    <tr>\n",
       "      <th>3</th>\n",
       "      <td>7.50</td>\n",
       "      <td>107.0</td>\n",
       "      <td>3.0</td>\n",
       "      <td>2.0</td>\n",
       "    </tr>\n",
       "    <tr>\n",
       "      <th>4</th>\n",
       "      <td>3.10</td>\n",
       "      <td>75.0</td>\n",
       "      <td>2.0</td>\n",
       "      <td>2.0</td>\n",
       "    </tr>\n",
       "    <tr>\n",
       "      <th>5</th>\n",
       "      <td>5.70</td>\n",
       "      <td>104.0</td>\n",
       "      <td>3.0</td>\n",
       "      <td>2.0</td>\n",
       "    </tr>\n",
       "    <tr>\n",
       "      <th>6</th>\n",
       "      <td>3.00</td>\n",
       "      <td>60.0</td>\n",
       "      <td>2.0</td>\n",
       "      <td>1.0</td>\n",
       "    </tr>\n",
       "    <tr>\n",
       "      <th>7</th>\n",
       "      <td>1.79</td>\n",
       "      <td>72.0</td>\n",
       "      <td>2.0</td>\n",
       "      <td>2.0</td>\n",
       "    </tr>\n",
       "    <tr>\n",
       "      <th>8</th>\n",
       "      <td>4.10</td>\n",
       "      <td>97.0</td>\n",
       "      <td>3.0</td>\n",
       "      <td>2.0</td>\n",
       "    </tr>\n",
       "    <tr>\n",
       "      <th>9</th>\n",
       "      <td>2.30</td>\n",
       "      <td>60.0</td>\n",
       "      <td>2.0</td>\n",
       "      <td>1.0</td>\n",
       "    </tr>\n",
       "    <tr>\n",
       "      <th>10</th>\n",
       "      <td>2.23</td>\n",
       "      <td>90.0</td>\n",
       "      <td>2.0</td>\n",
       "      <td>2.0</td>\n",
       "    </tr>\n",
       "    <tr>\n",
       "      <th>11</th>\n",
       "      <td>2.25</td>\n",
       "      <td>100.0</td>\n",
       "      <td>2.0</td>\n",
       "      <td>2.0</td>\n",
       "    </tr>\n",
       "    <tr>\n",
       "      <th>12</th>\n",
       "      <td>5.00</td>\n",
       "      <td>77.5</td>\n",
       "      <td>2.0</td>\n",
       "      <td>2.0</td>\n",
       "    </tr>\n",
       "  </tbody>\n",
       "</table>\n",
       "</div>"
      ],
      "text/plain": [
       "    GiaBan  DienTich  PhongNgu  PhongVeSinh\n",
       "0     2.35      66.0       2.0          2.0\n",
       "1     3.42      71.0       2.0          2.0\n",
       "2     2.40      56.0       2.0          2.0\n",
       "3     7.50     107.0       3.0          2.0\n",
       "4     3.10      75.0       2.0          2.0\n",
       "5     5.70     104.0       3.0          2.0\n",
       "6     3.00      60.0       2.0          1.0\n",
       "7     1.79      72.0       2.0          2.0\n",
       "8     4.10      97.0       3.0          2.0\n",
       "9     2.30      60.0       2.0          1.0\n",
       "10    2.23      90.0       2.0          2.0\n",
       "11    2.25     100.0       2.0          2.0\n",
       "12    5.00      77.5       2.0          2.0"
      ]
     },
     "execution_count": 10,
     "metadata": {},
     "output_type": "execute_result"
    }
   ],
   "source": [
    "from sklearn.impute import SimpleImputer\n",
    "imputer=SimpleImputer(strategy='median')\n",
    "imputer2=SimpleImputer(strategy='most_frequent')\n",
    "new_df['DienTich']=imputer.fit_transform(np.array(new_df['DienTich'].values).reshape(-1,1)).squeeze()\n",
    "new_df['PhongVeSinh']=imputer2.fit_transform(np.array(new_df['PhongVeSinh'].values).reshape(-1,1)).squeeze()\n",
    "new_df[:13]"
   ]
  },
  {
   "cell_type": "markdown",
   "id": "3201d304-87a8-414e-9d61-652118adf018",
   "metadata": {},
   "source": [
    "😊 Bây giờ thì đầu vào đã được tiền xử lý xong để phù hợp hơn cho việc áp dụng mô hình học máy."
   ]
  },
  {
   "cell_type": "markdown",
   "id": "d38525ff-7d63-4b27-9b2b-76be354f36fa",
   "metadata": {},
   "source": [
    "<a id=\"3\"></a>\n",
    "## <div style=\"text-align: left; background-color:#ACA224; font-family:newtimeroman;color: white; padding: 14px; line-height: 1;border-radius:10px\">III. Xây dựng mô hình học máy</div>"
   ]
  },
  {
   "cell_type": "markdown",
   "id": "32921fd6-c258-4b18-8454-f22c1cc13b3c",
   "metadata": {},
   "source": [
    "<a id=\"3.1\"></a>\n",
    "### <span style='color:#2B9C15'>1. Hồi quy tuyến tính đơn biến (Univariable Linear Regression)</span>"
   ]
  },
  {
   "cell_type": "markdown",
   "id": "5ab649d5-1cab-46cb-b4e2-e684d57c82ff",
   "metadata": {},
   "source": [
    "💬 **Mô tả**\n",
    "\n",
    "- Mục tiêu của hồi quy đơn biến là dự đoán giá trị của một biến phụ thuộc dựa vào một biến độc lập(hay còn gọi là thuộc tính).\n",
    "- Trong bộ dữ liệu này chúng ta sẽ thử dự đoán giá bán của căn hộ chung cư (cột 'GiaBan') dựa vào thuộc tính diện tích của ngôi nhà (cột 'DienTich'). **Ta cũng có thể thấy từ 'correlations' ở trên thì 'DienTich' có mối tương quan cao nhất với 'GiaBan' nên phù hợp nhất để thực hiện mô hình hồi quy tuyến tính đơn biến.**"
   ]
  },
  {
   "cell_type": "markdown",
   "id": "a304f7c8-0f05-4ffd-8188-cf11bdb88120",
   "metadata": {},
   "source": [
    "**👉 Một vài ký hiệu**\n",
    "- X: tập thuộc tính đầu vào.\n",
    "- y: tập giá trị đầu ra.\n",
    "- ($x^{(i)}$, $y^{(i)}$): mẫu huấn luyện thứ i trong bộ dữ liệu"
   ]
  },
  {
   "attachments": {
    "df54e68a-4973-4dc3-8389-92f9f9777458.png": {
     "image/png": "[encoded data removed]"
    }
   },
   "cell_type": "markdown",
   "id": "757075e0-07c3-4907-83ca-e473c23d73d6",
   "metadata": {},
   "source": [
    "**🗺️ Sơ đồ mô hình**\n",
    "\n",
    "![image.png](attachment:df54e68a-4973-4dc3-8389-92f9f9777458.png)"
   ]
  },
  {
   "cell_type": "markdown",
   "id": "bb7f25c8-fd1f-407e-8418-891b472e4142",
   "metadata": {},
   "source": [
    "**🗺️ Cost Function**\n",
    "\n",
    "- Ta có hypothesis là $h_{\\theta}$(x): $\\theta_{0}$ + $\\theta_{1}$x với $\\theta_{i}$ (i=0,1) là các tham số (parameters) của công thức hồi quy và $\\theta_{0}$ còn đươc gọi là hệ số tự do.\n",
    "- Tìm các $\\theta_{i}$ để tạo ra đường thẳng phù hợp với dữ liệu (tạo ra $h_{\\theta}$(x) càng gần y càng tốt).\n",
    "- Để đánh giá xem hypothesis đã tốt hay chưa chúng ta xây dựng một hàm lỗi bình phương sum square error để tính toán độ sai lệch giữa giá trị dự đoán và giá trị thực tế.\n",
    "\n",
    "**$$ J(\\theta_{0}, \\theta_{1}) = J(\\theta) = \\frac{1}{2m} \\sum_{i=1}^m \\left( h_{\\theta}(x^{(i)}) - y^{(i)}\\right)^2$$**\n",
    "\n",
    "Lúc này ta gọi $J(\\theta)$ là 'Cost Function' với ý nghĩa là hàm chi phí đánh giá hiệu suất của hypothesis từ các tham số $\\theta$.\n",
    "\n",
    "Do càng gần y càng tốt nên giá trị của Cost Function càng nhỏ sẽ càng tốt."
   ]
  },
  {
   "cell_type": "markdown",
   "id": "4caba50b-dbb4-405c-bfd1-6369a3ef428c",
   "metadata": {},
   "source": [
    "🤔 Vậy làm thế nào để chọn được theta tốt cho hypothesis:\n",
    "- Đầu tiên là khởi tạo theta với $\\theta_{0}$=$\\theta_{1}$=0 hoặc khởi tạo giá trị random cho các tham số đó.\n",
    "- Phần lớn trường hợp Cost Function ban đầu sẽ có giá trị rất lớn do đó để giảm giá trị hàm chi phí thì cần có các giải pháp để tìm ra vector tham số theta phù hợp nhất cho hypothesis.\n",
    "- Trong bài làm của nhóm sẽ sử dụng 2 cách là áp dụng thuật toán Gradient Descent và phương pháp Normal Equation."
   ]
  },
  {
   "cell_type": "markdown",
   "id": "c2dda2f4-4e88-4152-8216-5ddabfdef0cf",
   "metadata": {},
   "source": [
    "**🗺️ Gradient Descent**\n",
    "\n",
    "- Với hồi quy tuyền tính thì mục tiêu là cực tiểu hàm chi phí $$ J(\\theta_{0}, \\theta_{1}) = J(\\theta) = \\frac{1}{2m} \\sum_{i=1}^m \\left( h_{\\theta}(x^{(i)}) - y^{(i)}\\right)^2$$ với $h_{\\theta}(x)$ là đường thẳng tuyến tính.\n",
    "\n",
    "- Các tham số $\\theta_{j}$ sẽ là những giá trị mà chúng ta phải thay đổi để có thể tối ưu hóa Cost Function. Và trong thuật toán Gradient Descent cụ thể làm như sau:\n",
    "\n",
    "**🗺️ Trong mỗi lần lặp cập nhật một cách đồng thời các tham số $\\theta_{j}$ theo công thức**\n",
    "$$ \\theta_j = \\theta_j - \\alpha \\frac{1}{m} \\sum_{i=1}^m \\left( h_\\theta(x^{(i)}) - y^{(i)}\\right)x_j^{(i)}$$\n",
    "\n",
    "Trong đó: alpha là 'learning rate' giúp việc học được tối ưu hơn."
   ]
  },
  {
   "cell_type": "markdown",
   "id": "b942356b-cae2-4645-82c9-d0fbd0e285b8",
   "metadata": {},
   "source": [
    "**🗺️ Vectorization**\n",
    "\n",
    "- Đối với các công thức trình bày bên trên sử dụng ký hiệu x là do minh họa cho một đầu vào. Nhưng khi làm việc với toàn bộ tập dữ liệu lớn thì việc lặp vòng lặp qua từng x trong bộ dữ liệu sẽ rất mất thời gian, do đó chúng ta sẽ tận dụng numpy để thực hiện các thao tác trên ma trận và truyền vào mô hình là những vector và ma trận. Bước này được gọi Vectorization (Ma trận hóa).\n",
    "- Ký hiệu:\n",
    "    + $\\theta$: là vector tham số [$\\theta_{0}$, $\\theta_{1}$]\n",
    "    + X là ma trận tất cả các mẫu đầu vào:\n",
    "    [[1, $x^{1}$]\n",
    "     [1, $x^{2}$]\n",
    "     [...] \n",
    "     [1, $x^{m}$]] với m là kích thước bộ dữ liệu.\n",
    "- 1 là được thêm vào mỗi đầu vào được gọi là bias.\n",
    "- Hypothesis: $h_{\\theta}$=X.$\\theta$"
   ]
  },
  {
   "cell_type": "markdown",
   "id": "08bb9dd4-0c78-48c6-ac2d-d41c2ca0a761",
   "metadata": {},
   "source": [
    "**🛠 Cài đặt**"
   ]
  },
  {
   "cell_type": "markdown",
   "id": "78643d84-bca2-4c70-8eef-59b90448aca1",
   "metadata": {},
   "source": [
    "👉 Trực quan mối quan hệ giữa 2 biến `DienTich` và `GiaBan`:"
   ]
  },
  {
   "cell_type": "code",
   "execution_count": 11,
   "id": "522d2cd2-a1bc-422e-9565-5bb8475b26eb",
   "metadata": {},
   "outputs": [
    {
     "data": {
      "image/png": "[encoded data removed]",
      "text/plain": [
       "<Figure size 432x288 with 1 Axes>"
      ]
     },
     "metadata": {
      "needs_background": "light"
     },
     "output_type": "display_data"
    }
   ],
   "source": [
    "sns.scatterplot(data=new_df,x=new_df['DienTich'],y=new_df['GiaBan']);"
   ]
  },
  {
   "cell_type": "markdown",
   "id": "615086d4-121e-4492-abd4-e4a910302367",
   "metadata": {},
   "source": [
    "👉 Chưa thấy rõ mối quan hệ có thể do chênh lệch giá trị giữa 2 thuộc tính. Có thể cần feature scaling về sau."
   ]
  },
  {
   "cell_type": "markdown",
   "id": "e3b10c7d-dc88-44f7-899f-054ef84ce9bc",
   "metadata": {},
   "source": [
    "👉 Loại 2 outlier có diện tích lớn hơn 300."
   ]
  },
  {
   "cell_type": "code",
   "execution_count": 12,
   "id": "a77b2f83-fea0-492c-8d1c-46b6a1b678f7",
   "metadata": {},
   "outputs": [],
   "source": [
    "rows=new_df[new_df['DienTich']>300]\n",
    "new_df=new_df.drop(index=rows.index)"
   ]
  },
  {
   "cell_type": "code",
   "execution_count": 13,
   "id": "09f18d13-f0e8-4ee4-adcf-3237efabe2ad",
   "metadata": {},
   "outputs": [],
   "source": [
    "#chuyển dataframe sang nunpy array\n",
    "new_df=new_df.to_numpy()"
   ]
  },
  {
   "cell_type": "markdown",
   "id": "207cebeb-39a0-46e3-a238-bb8d3bfb15e1",
   "metadata": {},
   "source": [
    "👉 Việc đầu tiên là lấy ra cột `GiaBan` và `DienTich`."
   ]
  },
  {
   "cell_type": "code",
   "execution_count": 14,
   "id": "c3af72ab-9ad4-422a-8301-e6758e25bea8",
   "metadata": {},
   "outputs": [
    {
     "data": {
      "text/plain": [
       "array([[ 2.35, 66.  ],\n",
       "       [ 3.42, 71.  ],\n",
       "       [ 2.4 , 56.  ],\n",
       "       ...,\n",
       "       [ 2.2 , 83.5 ],\n",
       "       [ 3.35, 69.  ],\n",
       "       [ 1.68, 58.  ]])"
      ]
     },
     "execution_count": 14,
     "metadata": {},
     "output_type": "execute_result"
    }
   ],
   "source": [
    "data=new_df[:,[0,1]]\n",
    "data"
   ]
  },
  {
   "cell_type": "code",
   "execution_count": 15,
   "id": "b04dadad-663b-4533-b185-33c3b010d3e7",
   "metadata": {},
   "outputs": [],
   "source": [
    "X=data[:,1]\n",
    "y=data[:,0]"
   ]
  },
  {
   "cell_type": "code",
   "execution_count": 16,
   "id": "1d69fd85-0d52-4623-ad0e-bb4f532c380d",
   "metadata": {},
   "outputs": [],
   "source": [
    "#add bias unit.\n",
    "X = np.stack([np.ones(len(X)), X], axis=1)"
   ]
  },
  {
   "cell_type": "code",
   "execution_count": 17,
   "id": "a915ce0c-39c7-490d-8bae-3c0e84914eef",
   "metadata": {},
   "outputs": [
    {
     "name": "stdout",
     "output_type": "stream",
     "text": [
      "1133 1133\n"
     ]
    }
   ],
   "source": [
    "print(len(X), len(y))"
   ]
  },
  {
   "cell_type": "markdown",
   "id": "05ac1f8a-63b6-4633-930b-d98246d28dfb",
   "metadata": {},
   "source": [
    "👉 Bước tiếp theo là **Phân tách bộ dữ liệu thành 2 tập training set và test set**:\n",
    "\n",
    "- Mục đích: Bất cứ khi nào chúng ta đào tạo một mô hình học máy, chúng ta không thể đào tạo mô hình đó trên một tập dữ liệu hoặc thậm chí chúng ta đào tạo nó trên một tập dữ liệu duy nhất thì chúng ta sẽ không thể đánh giá hiệu suất của mô hình của mình do tập dữ liệu đã được mô hình học thuộc lòng thì việc đánh giá sẽ luôn đạt tỉ lệ đúng rất cao và có thể lên đến 100% dẫn đến hiện tượng over fitting - Không tổng quát khi áp dụng vào dữ liệu thực tế.\n",
    "- Ví dụ dễ hiểu là nếu bạn giải đề thi toán và được giáo viên cho một bộ các câu hỏi có thể ra thi, nếu bạn đã ôn rất kĩ những câu hỏi đó đến mức nhớ cách giải rõ ràng cho từng câu hỏi và sau đó khi đến ngày thi nếu giáo viên ra đề thi với các câu hỏi giống như trong bộ đề bạn đã ôn thì chắc chắn khả năng rất cao bạn sẽ được 10đ, do đó giáo viên không đánh giá chính xác nhất được khả năng tư duy giải toán hay hiểu vấn đề của học sinh mà chỉ đơn thuần là học thuộc lòng cách giải của từng câu hỏi. Giải pháp hiệu quả hơn cho việc đánh giá sẽ là phân chia bộ các câu hỏi ban đầu ra thành 2 phần là bộ câu hỏi cho học sinh ôn tập và bộ câu hỏi để ra đề thi khi đó buộc học sinh phải vận dụng, am hiểu những kiến thức trong quá trình ôn luyện vào giải đề thi. \n",
    "- Vì lý do đó, chúng ta chia dữ liệu nguồn của mình thành 2 tập training set và test set, nhiều bài viết cũng đề cập đến việc chia thành 3 tập là training, validation, và test set nhưng trong bài làm này nhóm sẽ chỉ chia thành 2 tập training và tets set.\n",
    "- Kích thước mỗi tập như sau:\n",
    "    + Size of Training set = 80% * (Size of Dataset).\n",
    "    + Size of Test set = 20% * (Size of Dataset)."
   ]
  },
  {
   "cell_type": "code",
   "execution_count": 18,
   "id": "db7c6fed-fde4-46f4-a075-0ac9a04a6ea8",
   "metadata": {},
   "outputs": [],
   "source": [
    "from sklearn.model_selection import train_test_split"
   ]
  },
  {
   "cell_type": "code",
   "execution_count": 19,
   "id": "b8b63a83-4b7a-428a-991f-61cd59c20ef4",
   "metadata": {},
   "outputs": [],
   "source": [
    "np.random.seed(13)\n",
    "X_train,X_test,y_train,y_test=train_test_split(X,y,test_size=0.2)"
   ]
  },
  {
   "cell_type": "code",
   "execution_count": 20,
   "id": "5658a329-cf2e-48ea-babb-46f8baba6db7",
   "metadata": {},
   "outputs": [
    {
     "name": "stdout",
     "output_type": "stream",
     "text": [
      "906 906\n"
     ]
    }
   ],
   "source": [
    "print(len(X_train),len(y_train))"
   ]
  },
  {
   "cell_type": "code",
   "execution_count": 21,
   "id": "86ebc3bd-213a-4191-b196-8c1b6c295310",
   "metadata": {},
   "outputs": [
    {
     "data": {
      "text/plain": [
       "array([[  1.,  74.],\n",
       "       [  1.,  76.],\n",
       "       [  1., 103.],\n",
       "       [  1.,  79.],\n",
       "       [  1.,  58.]])"
      ]
     },
     "execution_count": 21,
     "metadata": {},
     "output_type": "execute_result"
    }
   ],
   "source": [
    "X_train[:5,:]"
   ]
  },
  {
   "cell_type": "code",
   "execution_count": 22,
   "id": "abe05049-7916-42c7-8d20-d6d0af89f30a",
   "metadata": {},
   "outputs": [
    {
     "name": "stdout",
     "output_type": "stream",
     "text": [
      "227 227\n"
     ]
    }
   ],
   "source": [
    "print(len(X_test),len(y_test))"
   ]
  },
  {
   "cell_type": "code",
   "execution_count": 23,
   "id": "35b55274-896e-4ab2-aa12-3aff458c49df",
   "metadata": {},
   "outputs": [
    {
     "name": "stdout",
     "output_type": "stream",
     "text": [
      "(906, 2)\n",
      "(906,)\n"
     ]
    }
   ],
   "source": [
    "print(X_train.shape)\n",
    "print(y_train.shape)"
   ]
  },
  {
   "cell_type": "markdown",
   "id": "fe7e9b1e-b107-4653-992f-d8681dd58d8c",
   "metadata": {},
   "source": [
    "**🗺️ Feature Scaling**\n",
    "\n",
    "- Khi khoảng giá trị giữa 2 thuộc tính quá cách xa nhau thì việc mô hình hóa cũng như trực quan mối quan hệ có thể gặp khó khăn, do đó phải thực hiện kĩ thuật 'Feature Scaling' hay việt hóa là 'Co giãn thuộc tính'.\n",
    "- Có 3 phương pháp feature scaling chính là:\n",
    "    + Standardisation (Chính quy hóa): Làm cho tập dữ liệu có trung bình là 0 và độ lệch chuẩn là 1 và được áp dụng cho hầu hết các trường hợp cần feature scaling.\n",
    "    + Normalisation (Tiêu chuẩn hóa): Làm cho các giá trị trong tập dữ liệu thuộc đoạn [0, 1] và được áp dụng nếu tập dữ liệu tuân theo phân phối chuẩn.\n",
    "    + MinMax Scaler: Đưa các giá trị về khoảng giữa 2 giá trị min và max trong miền giá trị của thuộc tính, có thể là đoạn [-1, 0], [0, 1], [-1, 1],...\n",
    "- Trong bài này nhóm chọn phương pháp Standardisation để scaling khoảng giá trị của thuộc tính về khoảng gần hơn với giá trị của tập y là 'GiaBan'."
   ]
  },
  {
   "cell_type": "code",
   "execution_count": 24,
   "id": "455dbdf8-81e2-43f7-ae39-eaea10414204",
   "metadata": {},
   "outputs": [],
   "source": [
    "from sklearn.preprocessing import StandardScaler\n",
    "sc=StandardScaler()"
   ]
  },
  {
   "cell_type": "code",
   "execution_count": 25,
   "id": "b6b47a07-0593-46fa-a7d9-29e2d2575d74",
   "metadata": {},
   "outputs": [],
   "source": [
    "X_train[:,1]=sc.fit_transform(X_train[:,1].reshape(-1,1)).squeeze()"
   ]
  },
  {
   "cell_type": "code",
   "execution_count": 26,
   "id": "27277b4b-40f1-4edd-84d3-40754eff43f2",
   "metadata": {},
   "outputs": [
    {
     "data": {
      "text/plain": [
       "array([[ 1.        ,  0.06613316],\n",
       "       [ 1.        ,  0.14016374],\n",
       "       [ 1.        ,  1.13957653],\n",
       "       [ 1.        ,  0.25120961],\n",
       "       [ 1.        , -0.52611145]])"
      ]
     },
     "execution_count": 26,
     "metadata": {},
     "output_type": "execute_result"
    }
   ],
   "source": [
    "X_train[:5,:]"
   ]
  },
  {
   "cell_type": "code",
   "execution_count": 27,
   "id": "3dc35f71-8b86-492f-b237-98229ab44da0",
   "metadata": {},
   "outputs": [
    {
     "data": {
      "image/png": "[encoded data removed]",
      "text/plain": [
       "<Figure size 432x288 with 1 Axes>"
      ]
     },
     "metadata": {
      "needs_background": "light"
     },
     "output_type": "display_data"
    }
   ],
   "source": [
    "plt.plot(X_train[:,1],y_train,c='r',marker='o',ms=10,mec='k',ls='none');"
   ]
  },
  {
   "cell_type": "markdown",
   "id": "82a377f3-4a47-46a0-ab80-baf108c7322d",
   "metadata": {},
   "source": [
    "**🛠 Implementation Cost Function**"
   ]
  },
  {
   "cell_type": "code",
   "execution_count": 28,
   "id": "cc03e981-a1d1-454a-a24c-385a9d920f7a",
   "metadata": {},
   "outputs": [],
   "source": [
    "def computeCostFunction(X, y, theta):\n",
    "    m = y.size  # number of training examples\n",
    "    \n",
    "    # init the cost function's value is equal to 0.\n",
    "    J = 0\n",
    "    \n",
    "    # compute cost function J.\n",
    "    J=(1/(2*m))*np.sum(np.square(np.dot(X,theta.reshape(-1,1))-y.reshape(-1,1)),axis=0)\n",
    "\n",
    "    return J"
   ]
  },
  {
   "cell_type": "markdown",
   "id": "04752b07-6659-4f03-92b2-f5bd15174900",
   "metadata": {},
   "source": [
    "**🛠 Implement Gradient Descent**"
   ]
  },
  {
   "cell_type": "code",
   "execution_count": 29,
   "id": "fb036454-2a44-49c0-bd93-137b03cdef7f",
   "metadata": {},
   "outputs": [],
   "source": [
    "def gradientDescent(X, y, theta, alpha, num_iters):\n",
    "    m = y.shape[0]  # number of training examples\n",
    "    \n",
    "    theta = theta.copy()\n",
    "    \n",
    "    J_records = [] # to track value of J throw each iteration.\n",
    "    \n",
    "    for i in range(num_iters):\n",
    "        temp=theta.copy()\n",
    "        for j in range(len(theta)):\n",
    "            theta[j]=temp[j]-alpha*(1/m)*np.sum((np.dot(X,temp.reshape(-1,1))-y.reshape(-1,1)).squeeze()*X[:,j])\n",
    "        \n",
    "        # save the cost J in every iteration\n",
    "        J_records.append(computeCostFunction(X, y, theta))\n",
    "    \n",
    "    return theta, J_records"
   ]
  },
  {
   "cell_type": "code",
   "execution_count": 30,
   "id": "d60e0bb7-daf7-4b60-ab22-73a0a8c58af7",
   "metadata": {},
   "outputs": [],
   "source": [
    "# initialize fitting parameters\n",
    "theta = np.random.rand(2)\n",
    "\n",
    "# some gradient descent settings\n",
    "iterations = 1000\n",
    "alpha = 0.01 #learning rate\n",
    "\n",
    "theta, J_history = gradientDescent(X_train ,y_train, theta, alpha, iterations)"
   ]
  },
  {
   "cell_type": "code",
   "execution_count": 31,
   "id": "7d653436-52d6-4f00-ad13-bf3e132c5baa",
   "metadata": {},
   "outputs": [
    {
     "data": {
      "text/plain": [
       "array([3.23348383, 1.86178188])"
      ]
     },
     "execution_count": 31,
     "metadata": {},
     "output_type": "execute_result"
    }
   ],
   "source": [
    "theta"
   ]
  },
  {
   "cell_type": "code",
   "execution_count": 32,
   "id": "546f5206-61f6-462b-a6a1-bc1657577137",
   "metadata": {},
   "outputs": [
    {
     "data": {
      "image/png": "[encoded data removed]",
      "text/plain": [
       "<Figure size 432x288 with 1 Axes>"
      ]
     },
     "metadata": {
      "needs_background": "light"
     },
     "output_type": "display_data"
    }
   ],
   "source": [
    "plt.plot(np.arange(len(J_history)), J_history, lw=2)\n",
    "plt.xlabel('Number of iterations')\n",
    "plt.ylabel('Cost J');"
   ]
  },
  {
   "cell_type": "markdown",
   "id": "6fd6cc25-0085-47c1-a59f-317ce77916be",
   "metadata": {},
   "source": [
    "**👉 Vẽ đường thẳng tuyến tính tốt nhất với tập dữ liệu**"
   ]
  },
  {
   "cell_type": "code",
   "execution_count": 33,
   "id": "bae49e0b-30b8-4b39-a155-b54d36424c87",
   "metadata": {},
   "outputs": [
    {
     "data": {
      "text/plain": [
       "array([4.31470867])"
      ]
     },
     "execution_count": 33,
     "metadata": {},
     "output_type": "execute_result"
    }
   ],
   "source": [
    "J_history[-1]"
   ]
  },
  {
   "cell_type": "code",
   "execution_count": 34,
   "id": "6d70b13f-4a8f-4d30-8630-e5053183a6eb",
   "metadata": {},
   "outputs": [
    {
     "data": {
      "image/png": "[encoded data removed]",
      "text/plain": [
       "<Figure size 432x288 with 1 Axes>"
      ]
     },
     "metadata": {
      "needs_background": "light"
     },
     "output_type": "display_data"
    }
   ],
   "source": [
    "plt.plot(X_train[:,1],y_train,c='r',marker='o',ms=10,mec='k',ls='none');\n",
    "plt.plot(X_train[:, 1], np.dot(X_train, theta), '-')\n",
    "plt.legend(['Training data', 'Linear regression']);"
   ]
  },
  {
   "cell_type": "code",
   "execution_count": 35,
   "id": "6e1aaf6a-c8fb-4f79-be3e-519ced917c88",
   "metadata": {},
   "outputs": [],
   "source": [
    "X_test[:,1]=sc.transform(X_test[:,1].reshape(-1,1)).squeeze()"
   ]
  },
  {
   "cell_type": "code",
   "execution_count": 36,
   "id": "01613a13-d481-436c-8391-836c07a29901",
   "metadata": {},
   "outputs": [
    {
     "data": {
      "text/plain": [
       "array([1.58457333])"
      ]
     },
     "execution_count": 36,
     "metadata": {},
     "output_type": "execute_result"
    }
   ],
   "source": [
    "computeCostFunction(X_test, y_test, theta)"
   ]
  },
  {
   "cell_type": "code",
   "execution_count": 37,
   "id": "9b621da7-7fe2-4f3d-9768-a46360852d96",
   "metadata": {},
   "outputs": [],
   "source": [
    "predictions=np.dot(X_test,theta)\n",
    "dic={'Predictions': list(predictions), 'Real Values':list(y_test)}\n",
    "df=pd.DataFrame(dic)"
   ]
  },
  {
   "cell_type": "markdown",
   "id": "311f8a6b-b663-4737-9f19-68af687bb7f0",
   "metadata": {},
   "source": [
    "👉 Trực quan việc so sánh giá trị dự đoán $h_{\\theta}$(X) và y qua DataFrame 'df'."
   ]
  },
  {
   "cell_type": "code",
   "execution_count": 38,
   "id": "09f3f874-910e-4fa5-97d4-47cc09479a3a",
   "metadata": {},
   "outputs": [
    {
     "data": {
      "text/html": [
       "<div>\n",
       "<style scoped>\n",
       "    .dataframe tbody tr th:only-of-type {\n",
       "        vertical-align: middle;\n",
       "    }\n",
       "\n",
       "    .dataframe tbody tr th {\n",
       "        vertical-align: top;\n",
       "    }\n",
       "\n",
       "    .dataframe thead th {\n",
       "        text-align: right;\n",
       "    }\n",
       "</style>\n",
       "<table border=\"1\" class=\"dataframe\">\n",
       "  <thead>\n",
       "    <tr style=\"text-align: right;\">\n",
       "      <th></th>\n",
       "      <th>Predictions</th>\n",
       "      <th>Real Values</th>\n",
       "    </tr>\n",
       "  </thead>\n",
       "  <tbody>\n",
       "    <tr>\n",
       "      <th>0</th>\n",
       "      <td>3.080952</td>\n",
       "      <td>3.800</td>\n",
       "    </tr>\n",
       "    <tr>\n",
       "      <th>1</th>\n",
       "      <td>1.564835</td>\n",
       "      <td>2.729</td>\n",
       "    </tr>\n",
       "    <tr>\n",
       "      <th>2</th>\n",
       "      <td>6.940158</td>\n",
       "      <td>8.550</td>\n",
       "    </tr>\n",
       "    <tr>\n",
       "      <th>3</th>\n",
       "      <td>3.976839</td>\n",
       "      <td>2.100</td>\n",
       "    </tr>\n",
       "    <tr>\n",
       "      <th>4</th>\n",
       "      <td>2.943123</td>\n",
       "      <td>2.500</td>\n",
       "    </tr>\n",
       "    <tr>\n",
       "      <th>...</th>\n",
       "      <td>...</td>\n",
       "      <td>...</td>\n",
       "    </tr>\n",
       "    <tr>\n",
       "      <th>222</th>\n",
       "      <td>-1.674141</td>\n",
       "      <td>1.850</td>\n",
       "    </tr>\n",
       "    <tr>\n",
       "      <th>223</th>\n",
       "      <td>2.667465</td>\n",
       "      <td>2.900</td>\n",
       "    </tr>\n",
       "    <tr>\n",
       "      <th>224</th>\n",
       "      <td>2.667465</td>\n",
       "      <td>1.920</td>\n",
       "    </tr>\n",
       "    <tr>\n",
       "      <th>225</th>\n",
       "      <td>2.185065</td>\n",
       "      <td>1.710</td>\n",
       "    </tr>\n",
       "    <tr>\n",
       "      <th>226</th>\n",
       "      <td>5.286212</td>\n",
       "      <td>3.900</td>\n",
       "    </tr>\n",
       "  </tbody>\n",
       "</table>\n",
       "<p>227 rows × 2 columns</p>\n",
       "</div>"
      ],
      "text/plain": [
       "     Predictions  Real Values\n",
       "0       3.080952        3.800\n",
       "1       1.564835        2.729\n",
       "2       6.940158        8.550\n",
       "3       3.976839        2.100\n",
       "4       2.943123        2.500\n",
       "..           ...          ...\n",
       "222    -1.674141        1.850\n",
       "223     2.667465        2.900\n",
       "224     2.667465        1.920\n",
       "225     2.185065        1.710\n",
       "226     5.286212        3.900\n",
       "\n",
       "[227 rows x 2 columns]"
      ]
     },
     "execution_count": 38,
     "metadata": {},
     "output_type": "execute_result"
    }
   ],
   "source": [
    "df"
   ]
  },
  {
   "cell_type": "markdown",
   "id": "9352053a-e8bf-443f-b709-55fb4425c0b3",
   "metadata": {},
   "source": [
    "👉 Ngoài việc tự cài đặt thì mô hình hồi quy tuyến tính cũng được xây dựng sẵn trong nhiều thư viện hỗ trợ của Python mà một trong số đó là Scikit Learn.\n",
    "\n",
    "👉 Thực hiện so sánh kết quả được dự đoán giữa mô hình tự cài đặt của nhóm và của thư viện sklearn."
   ]
  },
  {
   "cell_type": "code",
   "execution_count": 39,
   "id": "a3712692-ee67-4485-ae3e-35eab1d0b4f7",
   "metadata": {},
   "outputs": [],
   "source": [
    "from sklearn.linear_model import LinearRegression"
   ]
  },
  {
   "cell_type": "code",
   "execution_count": 40,
   "id": "6254614d-efc0-4421-b77a-d38235a11801",
   "metadata": {},
   "outputs": [
    {
     "data": {
      "text/plain": [
       "LinearRegression()"
      ]
     },
     "execution_count": 40,
     "metadata": {},
     "output_type": "execute_result"
    }
   ],
   "source": [
    "regr = LinearRegression()\n",
    "regr.fit(X_train, y_train)"
   ]
  },
  {
   "cell_type": "code",
   "execution_count": 41,
   "id": "676fc13f-40cb-47c7-bf81-85478dbb9b8c",
   "metadata": {},
   "outputs": [],
   "source": [
    "predictions2=regr.predict(X_test)"
   ]
  },
  {
   "cell_type": "code",
   "execution_count": 42,
   "id": "3671b24f-8403-40e1-abb3-7110bbab5d2b",
   "metadata": {},
   "outputs": [],
   "source": [
    "dic2={'Predictions by Implementation': list(predictions), 'Predictions by Sklearn':list(predictions2)}\n",
    "comparison_df=pd.DataFrame(dic2)"
   ]
  },
  {
   "cell_type": "code",
   "execution_count": 43,
   "id": "ed474410-4694-4203-b20b-0d76b464a19f",
   "metadata": {},
   "outputs": [
    {
     "data": {
      "text/html": [
       "<div>\n",
       "<style scoped>\n",
       "    .dataframe tbody tr th:only-of-type {\n",
       "        vertical-align: middle;\n",
       "    }\n",
       "\n",
       "    .dataframe tbody tr th {\n",
       "        vertical-align: top;\n",
       "    }\n",
       "\n",
       "    .dataframe thead th {\n",
       "        text-align: right;\n",
       "    }\n",
       "</style>\n",
       "<table border=\"1\" class=\"dataframe\">\n",
       "  <thead>\n",
       "    <tr style=\"text-align: right;\">\n",
       "      <th></th>\n",
       "      <th>Predictions by Implementation</th>\n",
       "      <th>Predictions by Sklearn</th>\n",
       "    </tr>\n",
       "  </thead>\n",
       "  <tbody>\n",
       "    <tr>\n",
       "      <th>0</th>\n",
       "      <td>3.080952</td>\n",
       "      <td>3.081083</td>\n",
       "    </tr>\n",
       "    <tr>\n",
       "      <th>1</th>\n",
       "      <td>1.564835</td>\n",
       "      <td>1.564920</td>\n",
       "    </tr>\n",
       "    <tr>\n",
       "      <th>2</th>\n",
       "      <td>6.940158</td>\n",
       "      <td>6.940408</td>\n",
       "    </tr>\n",
       "    <tr>\n",
       "      <th>3</th>\n",
       "      <td>3.976839</td>\n",
       "      <td>3.976998</td>\n",
       "    </tr>\n",
       "    <tr>\n",
       "      <th>4</th>\n",
       "      <td>2.943123</td>\n",
       "      <td>2.943250</td>\n",
       "    </tr>\n",
       "    <tr>\n",
       "      <th>...</th>\n",
       "      <td>...</td>\n",
       "      <td>...</td>\n",
       "    </tr>\n",
       "    <tr>\n",
       "      <th>222</th>\n",
       "      <td>-1.674141</td>\n",
       "      <td>-1.674156</td>\n",
       "    </tr>\n",
       "    <tr>\n",
       "      <th>223</th>\n",
       "      <td>2.667465</td>\n",
       "      <td>2.667584</td>\n",
       "    </tr>\n",
       "    <tr>\n",
       "      <th>224</th>\n",
       "      <td>2.667465</td>\n",
       "      <td>2.667584</td>\n",
       "    </tr>\n",
       "    <tr>\n",
       "      <th>225</th>\n",
       "      <td>2.185065</td>\n",
       "      <td>2.185168</td>\n",
       "    </tr>\n",
       "    <tr>\n",
       "      <th>226</th>\n",
       "      <td>5.286212</td>\n",
       "      <td>5.286411</td>\n",
       "    </tr>\n",
       "  </tbody>\n",
       "</table>\n",
       "<p>227 rows × 2 columns</p>\n",
       "</div>"
      ],
      "text/plain": [
       "     Predictions by Implementation  Predictions by Sklearn\n",
       "0                         3.080952                3.081083\n",
       "1                         1.564835                1.564920\n",
       "2                         6.940158                6.940408\n",
       "3                         3.976839                3.976998\n",
       "4                         2.943123                2.943250\n",
       "..                             ...                     ...\n",
       "222                      -1.674141               -1.674156\n",
       "223                       2.667465                2.667584\n",
       "224                       2.667465                2.667584\n",
       "225                       2.185065                2.185168\n",
       "226                       5.286212                5.286411\n",
       "\n",
       "[227 rows x 2 columns]"
      ]
     },
     "execution_count": 43,
     "metadata": {},
     "output_type": "execute_result"
    }
   ],
   "source": [
    "comparison_df"
   ]
  },
  {
   "cell_type": "markdown",
   "id": "5a382eaf-3a28-429f-8e7b-ed63b071be18",
   "metadata": {},
   "source": [
    "👉 Như đã đề cập ở trên, nhóm sử dụng 2 cách để tìm ra theta tốt nhất cho hypothesis. Một là sử dụng Gradient Descent như đã đề cập ở trên, và cách thứ hai tiếp theo đây là sử dụng Normal Equation (Biểu thức chính quy)."
   ]
  },
  {
   "cell_type": "markdown",
   "id": "e61d3484-f989-42c6-9e84-b5e0fbdce58e",
   "metadata": {},
   "source": [
    "**🗺️ Normal Equation**"
   ]
  },
  {
   "cell_type": "markdown",
   "id": "38637067-869a-45a0-937e-0be6330f4b0e",
   "metadata": {},
   "source": [
    "Vector tham số $\\theta$ sẽ được tính theo công thức sau: $$ \\theta = \\left( X^T X\\right)^{-1} X^T\\vec{y}$$ với X và y lần lượt là ma trận đầu vào và vector của biến phụ thuộc như đã được đề cập ở mục **Vectorization** ở trên.\n",
    "\n",
    "theta tốt nhất tìm được khi sử dụng gradient descent là array([3.23348383, 1.86178188])."
   ]
  },
  {
   "cell_type": "code",
   "execution_count": 44,
   "id": "be5474fe-1bc8-482d-b2eb-5d2dd6999795",
   "metadata": {},
   "outputs": [],
   "source": [
    "def normalEquation(X, y):\n",
    "    theta = np.zeros(X.shape[1])\n",
    "    \n",
    "    theta=np.dot(np.dot(np.linalg.inv(np.dot(X.T,X)),X.T),y.reshape(-1,1))\n",
    "    theta=theta.squeeze()\n",
    "\n",
    "    return theta"
   ]
  },
  {
   "cell_type": "code",
   "execution_count": 45,
   "id": "5cdd30b9-5e45-4e62-af7c-34f659662ff7",
   "metadata": {},
   "outputs": [
    {
     "data": {
      "text/plain": [
       "array([3.23361975, 1.86183918])"
      ]
     },
     "execution_count": 45,
     "metadata": {},
     "output_type": "execute_result"
    }
   ],
   "source": [
    "theta = normalEquation(X_train, y_train)\n",
    "theta"
   ]
  },
  {
   "cell_type": "markdown",
   "id": "195d34ce-7317-49a7-8fa8-a2e0c7f3e760",
   "metadata": {},
   "source": [
    "👉 Nhận thấy sai số là rất ít giữa 2 phương pháp."
   ]
  },
  {
   "cell_type": "markdown",
   "id": "0a8dfeed-d04a-4e6c-8969-fa26b243a3f9",
   "metadata": {},
   "source": [
    "**🗺️ So sánh giữa Gradient Descent và Normal Equation**\n",
    "\n",
    "| Gradient Descent | Normal Equation |\n",
    "| :- | -: |\n",
    "| Cần lựa chọn $\\alpha$ phù hợp | Không cần lựa chọn $\\alpha$ |\n",
    "| Cần nhiều vòng lặp | Không cần nhiều vòng lặp |\n",
    "| Làm việc tốt thậm chí với tập dữ liệu có kích thước rất lớn | Rất chậm với tập dữ liệu có kích thước rất lớn do cần tính $(X^{T}X)^{-1}$  |"
   ]
  },
  {
   "cell_type": "markdown",
   "id": "5b4cc097-f907-4892-9836-835325247bf4",
   "metadata": {},
   "source": [
    "<a id=\"3.2\"></a>\n",
    "### <span style='color:#2B9C15'>2. Hồi quy tuyến tính đa biến (Linear Regression with Multi Variables)</span>"
   ]
  },
  {
   "cell_type": "markdown",
   "id": "22e3f3bd-f789-4dd0-9f69-a1b6c1690556",
   "metadata": {},
   "source": [
    "💬 **Nhận xét**\n",
    "\n",
    "- Với hồi quy tuyến tính đơn biến là mô hình hồi quy đơn giản có thể được áp dụng, tuy nhiên một vấn đề có thể dễ dàng nhận thấy là trong một tập dữ liệu với rất nhiều thuộc tính (biến) đầu vào và một biến đầu ra thì việc lựa chọn ra một thuộc tính trong số các thuộc tính đầu vào để xây dựng hypothesis cho đường hồi quy tuyến tính là việc không dễ dàng.\n",
    "- Hypothesis chỉ có thể được xây dựng gần với giá trị thật của biến đầu ra nhất khi thuộc tính được chọn phải có mối quan hệ tuyến tính thật sự với biến y và quan trọng hơn hết nó có vai trò ảnh hưởng phải lớn đến giá trị của biến y.\n",
    "- Đối vối bài toán dự đoán giá bán của căn hộ/chung cư thì có thể chấp nhận việc thuộc tính diện tích ngôi nhà là có vai trò ảnh hưởng lớn đến giá nhà nhưng vẫn có khả năng số phòng ngủ hay số phòng vệ sinh sẽ cũng ảnh hưởng nhiều đến giá bán.\n",
    "- Hay một bài toán khó hơn là dự đoán giá bán xe ô tô dự vào các thuộc tính khác như dung tich xilanh, số cửa, động cơ,... thì việc lựa chọn ra một thuộc tính cho việc hồi quy đơn biến là khó khăn hơn nhiều do mỗi một thuộc tính đều đóng góp một ít tầm ảnh hưởng vào giá bán của xe ô tô đó.\n",
    "- Khi đó giải pháp là lựa chọn tất cả để xây dựng hypothesis cho mô hình hồi quy."
   ]
  },
  {
   "cell_type": "markdown",
   "id": "e26e1dd2-8a1d-40e0-b33f-e5b3ec753a95",
   "metadata": {},
   "source": [
    "**💬 Vấn đề gặp phải**\n",
    "- Khi dùng nhiều biến để xây dựng hypothesis thì hypothesis sẽ rất phức tạp, chẳng hạn như một đầu vào x với n thuộc tính ($x_{1}, x_{2}, ..., x_{n}$) được chọn để xây dựng hypothesis: $$h_{\\theta}(x) = \\theta_{0} + \\theta_{1}x_{1} + \\theta_{2}x_{2} + ... + \\theta_{n}x_{n}$$. Điều này sẽ có thể tạo nên một đường không phải dạng đường thẳng mà nó là một dạng đường ngoằn ngòe phức tạp nào đó, có thể khớp rất tốt với tập dữ liệu huấn luyện nhưng khi áp dụng vào thực tế thì không, đây được gọi là vấn đề over fitting.\n",
    "- Ngoài ra, có thể kể đến một trường hợp rất đáng xem xét đó là đường tuyến tính không còn phù hợp với bộ dữ liệu, khi đó ta phải áp dụng 'Hồi quy đa thức' (Polynomial Regression) bằng cách tăng bậc của hypothesis lên lớn hơn 1 để có thể khớp hơn với bộ dữ liệu. Tuy nhiên việc lựa chọn bậc cho hồi quy đa thức liên đến các thuật toán lựa chọn mô hình (Model Selection Algorithms) và nhóm sẽ không trình bày phần này trong đồ án lần này."
   ]
  },
  {
   "cell_type": "markdown",
   "id": "ea13e0b0-4c17-4d0d-a0f6-dbc8b39cfbc0",
   "metadata": {},
   "source": [
    "Quay trở lại với vấn đề một hypothesis dạng tuyến tính quá phức tạp vì có quá nhiều tham số thì một trong những cách được đề xuất để khắc phục vấn đề này là **Regularization** hay việt hóa là 'Chính quy hóa'. Nội dung này cũng là nội dung sẽ được nhóm trình bày trong phần tiếp theo.\n",
    "\n",
    "Thay vì chọn hết tất cả thuộc tính theo suy nghĩ chủ quan ban đầu thì sau khi có được các hệ số tương quan giữa các thuộc tính và biến đầu ra, nhóm tiền hành xây dựng mô hình hồi quy tuyến tính đa biến với 4 thuộc tính có liên quan cao nhất đến 'GiaBan' là 'DienTich', 'PhongNgu', 'PhongVeSinh', 'HuongCua'."
   ]
  },
  {
   "cell_type": "markdown",
   "id": "45ce906b-fc7a-4806-99b8-35be64d3c100",
   "metadata": {},
   "source": [
    "**🗺️ Regularization**\n",
    "- Ý tưởng là: thêm vào cost function một đại lượng nữa là **tổng các tích của một hằng số $\\lambda$ với $\\theta_{j}$ với j=[1,n] nếu x có n thuộc tính.**\n",
    "- Đại lượng này tác động đến Cost Function như sau: $$J(\\theta) = \\frac{1}{2m}[ \\sum_{i=1}^m \\left( h_{\\theta}(x^{(i)}) - y^{(i)}\\right)^2 + \\lambda\\sum_{j=1}^n \\left( \\theta_{j}\\right)^2]$$\n",
    "    + Cùng nhớ lại mục tiêu của hồi quy tuyến tính là minimize hàm Cost Function do đó khi thêm một đại lượng là $\\lambda\\sum_{j=1}^n \\left( \\theta_{j}\\right)^2$ thì để cho có thể minimize được Cost Function bắt buộc các tham số $\\theta_{j}$ phải nhỏ và ta gọi việc 'ép buộc' này là phạt (penalize) các tham số $\\theta$.\n",
    "    + Tuy nhiên nhìn vào công thức của đại lượng được thêm vào bạn chắc chắn sẽ chú ý đến hằng số $\\lambda$, vậy việc chọn $\\lambda$ ảnh hưởng như nào đến quá trình Regularization.\n",
    "    + Nếu chúng ta thiết lập $\\lambda$ rất nhỏ thì việc thực hiện regularization sẽ không còn ý nghĩa nữa, còn nếu như thiết lập $\\lambda$ rất lớn thì việc penalize các tham số $\\theta$ là rất nặng dẫn đến $\\theta_{j}$ (j=[1, n]) sẽ xấp xỉ 0 và lúc này hypothesis trở thành một hàm hằng $h_{\\theta}$(x) = $\\theta_{0}$ dẫn đến hiện tượng Underfitting.\n",
    "    + Để dễ dàng hơn nhóm sẽ chọn $\\lambda$=1 cho quá trình này."
   ]
  },
  {
   "cell_type": "markdown",
   "id": "ac80a1f1-4647-4454-80e2-fe1ac076ffff",
   "metadata": {},
   "source": [
    "**🗺️ Gradient Descent cho Regularization trên hồi quy tuyến tính**\n",
    "\n",
    "$\\theta_0 = \\theta_0 - \\alpha \\frac{1}{m} \\sum_{i=1}^m \\left( h_\\theta(x^{(i)}) - y^{(i)}\\right)x_0^{(i)}$\n",
    "\n",
    "$\\theta_j = \\theta_j(1 - \\alpha\\frac{\\lambda}{m}) - \\alpha \\frac{1}{m} \\sum_{i=1}^m \\left( h_\\theta(x^{(i)}) - y^{(i)}\\right)x_j^{(i)}$ với j=[1, n] nếu x có n thuộc tính.\n",
    "\n",
    "***Tất nhiên việc cập nhật các $\\theta_{j}$ cũng phải diễn ra một cách đồng thời***."
   ]
  },
  {
   "cell_type": "markdown",
   "id": "c84a8c83-2c72-4db2-a741-160bbd21b9f8",
   "metadata": {},
   "source": [
    "**🗺️ Normal Equation với Regularization**\n",
    "$$\\theta = \\left( X^T X + \\lambda A\\right)^{-1} X^T\\vec{y}$$ với A là ma trận chứa các giá trị 0 và chỉ có các giá trị trên đường chéo chính có giá trị là 1 nhưng trừ phần tử ở vị trí [0, 0] cũng bằng 0."
   ]
  },
  {
   "cell_type": "markdown",
   "id": "9d393a64-7ad7-43df-a5b4-2fab24a31abc",
   "metadata": {},
   "source": [
    "👉 Việc đầu tiên cũng sẽ là lấy ra thuộc tính và biến đầu ra từ tập dữ liệu"
   ]
  },
  {
   "cell_type": "code",
   "execution_count": 46,
   "id": "508d9954-4135-4e16-8f88-d9f232f77839",
   "metadata": {},
   "outputs": [
    {
     "data": {
      "text/plain": [
       "array([[ 2.35, 66.  ,  2.  ,  2.  ],\n",
       "       [ 3.42, 71.  ,  2.  ,  2.  ],\n",
       "       [ 2.4 , 56.  ,  2.  ,  2.  ],\n",
       "       ...,\n",
       "       [ 2.2 , 83.5 ,  2.  ,  2.  ],\n",
       "       [ 3.35, 69.  ,  2.  ,  2.  ],\n",
       "       [ 1.68, 58.  ,  2.  ,  2.  ]])"
      ]
     },
     "execution_count": 46,
     "metadata": {},
     "output_type": "execute_result"
    }
   ],
   "source": [
    "data2=new_df[:,:]\n",
    "data2"
   ]
  },
  {
   "cell_type": "code",
   "execution_count": 47,
   "id": "e50e758c-70ec-44c2-a89a-f6e518bb64a3",
   "metadata": {},
   "outputs": [],
   "source": [
    "X2=data2[:,1:]\n",
    "y2=data[:,0]"
   ]
  },
  {
   "cell_type": "markdown",
   "id": "7fc49ed4-38ce-4633-8193-a96385721ff8",
   "metadata": {},
   "source": [
    "**🗺️ PCA giảm chiều dữ liệu**\n",
    "- Để có thể minh họa mối quan hệ giữa các thuộc tính và biến đầu ra, ta phải giảm chiều dữ liệu của tập thuộc tính.\n",
    "- Một phương pháp hữu ích và được sklearn hỗ trợ sẵn đó là PCA."
   ]
  },
  {
   "cell_type": "code",
   "execution_count": 48,
   "id": "4410e1ee-079a-4712-9765-1272c6bb5e55",
   "metadata": {},
   "outputs": [],
   "source": [
    "from sklearn.decomposition import PCA\n",
    "pca=PCA(n_components=1)\n",
    "X2_pca=pca.fit_transform(X2)"
   ]
  },
  {
   "cell_type": "code",
   "execution_count": 49,
   "id": "2890dccc-9fd3-45f3-bfdd-3f4461c43f6d",
   "metadata": {},
   "outputs": [
    {
     "data": {
      "text/plain": [
       "array([[ -5.768084  ],\n",
       "       [ -0.76881529],\n",
       "       [-15.76662143],\n",
       "       ...,\n",
       "       [ 11.72935649],\n",
       "       [ -2.76852277],\n",
       "       [-13.76691394]])"
      ]
     },
     "execution_count": 49,
     "metadata": {},
     "output_type": "execute_result"
    }
   ],
   "source": [
    "X2_pca"
   ]
  },
  {
   "cell_type": "code",
   "execution_count": 50,
   "id": "d55021d7-69a2-48e7-a8b3-8bc600c22871",
   "metadata": {},
   "outputs": [
    {
     "data": {
      "image/png": "[encoded data removed]",
      "text/plain": [
       "<Figure size 432x288 with 1 Axes>"
      ]
     },
     "metadata": {
      "needs_background": "light"
     },
     "output_type": "display_data"
    }
   ],
   "source": [
    "plt.plot(X2_pca.squeeze(),y2,c='r',marker='o',ms=10,mec='k',ls='none');"
   ]
  },
  {
   "cell_type": "markdown",
   "id": "404eed9a-cfc0-434a-97d4-28d9b11a6556",
   "metadata": {},
   "source": [
    "**🛠 Tiến hành cài đặt hồi quy tuyến tính đa biến**"
   ]
  },
  {
   "cell_type": "code",
   "execution_count": 51,
   "id": "fe5ab121-1dd1-4f6f-87b2-ade4735b9e30",
   "metadata": {},
   "outputs": [
    {
     "data": {
      "text/plain": [
       "array([[ 1. , 66. ,  2. ,  2. ],\n",
       "       [ 1. , 71. ,  2. ,  2. ],\n",
       "       [ 1. , 56. ,  2. ,  2. ],\n",
       "       ...,\n",
       "       [ 1. , 83.5,  2. ,  2. ],\n",
       "       [ 1. , 69. ,  2. ,  2. ],\n",
       "       [ 1. , 58. ,  2. ,  2. ]])"
      ]
     },
     "execution_count": 51,
     "metadata": {},
     "output_type": "execute_result"
    }
   ],
   "source": [
    "#add bias unit\n",
    "X2 = np.concatenate([np.ones((len(X2), 1)), X2], axis=1)\n",
    "X2"
   ]
  },
  {
   "cell_type": "code",
   "execution_count": 52,
   "id": "550f655c-e992-4ff8-bbe3-4a37d1bcb191",
   "metadata": {},
   "outputs": [],
   "source": [
    "#train_test_split\n",
    "np.random.seed(13)\n",
    "X2_train,X2_test,y2_train,y2_test=train_test_split(X2,y2,test_size=0.2)"
   ]
  },
  {
   "cell_type": "code",
   "execution_count": 53,
   "id": "32fbad0b-4b69-4457-9665-307a572a8f6c",
   "metadata": {},
   "outputs": [
    {
     "name": "stdout",
     "output_type": "stream",
     "text": [
      "906 227\n"
     ]
    }
   ],
   "source": [
    "print(len(X2_train), len(X2_test))"
   ]
  },
  {
   "cell_type": "code",
   "execution_count": 54,
   "id": "861f09eb-80e0-40a6-9e2a-729ef34f9ee5",
   "metadata": {},
   "outputs": [
    {
     "data": {
      "text/plain": [
       "array([[  1.,  74.,   2.,   2.],\n",
       "       [  1.,  76.,   2.,   2.],\n",
       "       [  1., 103.,   3.,   2.],\n",
       "       ...,\n",
       "       [  1.,  70.,   2.,   2.],\n",
       "       [  1.,  82.,   2.,   2.],\n",
       "       [  1.,  55.,   2.,   2.]])"
      ]
     },
     "execution_count": 54,
     "metadata": {},
     "output_type": "execute_result"
    }
   ],
   "source": [
    "X2_train"
   ]
  },
  {
   "cell_type": "code",
   "execution_count": 55,
   "id": "efcda6a7-19f9-4535-8439-fde9a44aa078",
   "metadata": {},
   "outputs": [],
   "source": [
    "#feature scaling for 'DienTich' attributes.\n",
    "sc2=StandardScaler()\n",
    "X2_train[:,[1]]=sc2.fit_transform(X2_train[:,[1]])"
   ]
  },
  {
   "cell_type": "code",
   "execution_count": 56,
   "id": "67f36b69-bbe7-4637-b618-c86a42ff3efc",
   "metadata": {},
   "outputs": [
    {
     "data": {
      "text/plain": [
       "array([[ 1.        ,  0.06613316,  2.        ,  2.        ],\n",
       "       [ 1.        ,  0.14016374,  2.        ,  2.        ],\n",
       "       [ 1.        ,  1.13957653,  3.        ,  2.        ],\n",
       "       ...,\n",
       "       [ 1.        , -0.08192799,  2.        ,  2.        ],\n",
       "       [ 1.        ,  0.36225547,  2.        ,  2.        ],\n",
       "       [ 1.        , -0.63715731,  2.        ,  2.        ]])"
      ]
     },
     "execution_count": 56,
     "metadata": {},
     "output_type": "execute_result"
    }
   ],
   "source": [
    "X2_train"
   ]
  },
  {
   "cell_type": "code",
   "execution_count": 57,
   "id": "ff6d94e6-f906-45c6-8cc6-87ba684d813a",
   "metadata": {},
   "outputs": [
    {
     "data": {
      "text/plain": [
       "(906, 4)"
      ]
     },
     "execution_count": 57,
     "metadata": {},
     "output_type": "execute_result"
    }
   ],
   "source": [
    "X2_train.shape"
   ]
  },
  {
   "cell_type": "markdown",
   "id": "518efa1f-bdfb-4cf8-ac16-b08a37de5310",
   "metadata": {},
   "source": [
    "**🛠 Implementation Cost Function with Regularization**"
   ]
  },
  {
   "cell_type": "code",
   "execution_count": 58,
   "id": "a41b48db-8680-4cac-9b23-aec17084f876",
   "metadata": {},
   "outputs": [],
   "source": [
    "def computeCostFunctionReg(X, y, theta, lambda_):\n",
    "    m = y.size  # number of training examples\n",
    "    \n",
    "    # init the cost function's value is equal to 0.\n",
    "    J = 0\n",
    "    \n",
    "    # compute cost function J.\n",
    "    theta_to_compute=theta[1:]\n",
    "    J=(1/(2*m))*(np.sum(np.square(np.dot(X,theta.reshape(-1,1))-y.reshape(-1,1)),axis=0) + lambda_*np.sum(np.square(theta_to_compute)))\n",
    "\n",
    "    return J"
   ]
  },
  {
   "cell_type": "markdown",
   "id": "46573ab1-9418-42fa-a46d-189e143f136d",
   "metadata": {},
   "source": [
    "**🛠 Implementation Gradient Descent with Regularization**"
   ]
  },
  {
   "cell_type": "code",
   "execution_count": 59,
   "id": "2a1f8ead-e074-468c-a952-e3a05f30a00e",
   "metadata": {},
   "outputs": [],
   "source": [
    "def gradientDescentReg(X,y,theta,alpha,lambda_,num_iters):\n",
    "    m = y.shape[0]  # number of training examples\n",
    "    \n",
    "    theta = theta.copy()\n",
    "    \n",
    "    J_records = [] # to track value of J throw each iteration.\n",
    "    \n",
    "    for i in range(num_iters):\n",
    "        temp=theta.copy()\n",
    "        for j in range(len(theta)):\n",
    "            if j==0:\n",
    "                theta[0]=temp[0]-alpha*(1/m)*np.sum((np.dot(X,temp.reshape(-1,1))-y.reshape(-1,1)).squeeze())\n",
    "            else:\n",
    "                theta[j]=temp[j]*(1-(alpha*(lambda_/m)))-alpha*(1/m)*np.sum((np.dot(X,temp.reshape(-1,1))-y.reshape(-1,1)).squeeze()*X[:,j])\n",
    "        \n",
    "        # save the cost J in every iteration\n",
    "        J_records.append(computeCostFunctionReg(X, y, theta, lambda_))\n",
    "    \n",
    "    return theta, J_records"
   ]
  },
  {
   "cell_type": "code",
   "execution_count": 60,
   "id": "d16507ec-40c5-45dd-a204-878999cabb2b",
   "metadata": {},
   "outputs": [],
   "source": [
    "# initialize fitting parameters\n",
    "theta2 = np.zeros(X2_train.shape[1])\n",
    "# some gradient descent settings\n",
    "iterations2 = 1000\n",
    "alpha2 = 0.01 #learning rate\n",
    "lambda_=1\n",
    "\n",
    "theta2, J_history2 = gradientDescentReg(X2_train ,y2_train, theta2, alpha2, lambda_, iterations2)"
   ]
  },
  {
   "cell_type": "code",
   "execution_count": 61,
   "id": "15d9a47b-2bf0-4c95-99dc-13158ea13303",
   "metadata": {},
   "outputs": [
    {
     "data": {
      "text/plain": [
       "array([0.67664871, 1.45763189, 0.53759676, 0.74861911])"
      ]
     },
     "execution_count": 61,
     "metadata": {},
     "output_type": "execute_result"
    }
   ],
   "source": [
    "theta2"
   ]
  },
  {
   "cell_type": "code",
   "execution_count": 62,
   "id": "e86825cb-b62e-4c65-aae4-94ff17bd020d",
   "metadata": {},
   "outputs": [
    {
     "data": {
      "text/plain": [
       "Text(0, 0.5, 'Cost J')"
      ]
     },
     "execution_count": 62,
     "metadata": {},
     "output_type": "execute_result"
    },
    {
     "data": {
      "image/png": "[encoded data removed]",
      "text/plain": [
       "<Figure size 432x288 with 1 Axes>"
      ]
     },
     "metadata": {
      "needs_background": "light"
     },
     "output_type": "display_data"
    }
   ],
   "source": [
    "plt.plot(np.arange(len(J_history2)), J_history2, lw=2)\n",
    "plt.xlabel('Number of iterations')\n",
    "plt.ylabel('Cost J')"
   ]
  },
  {
   "cell_type": "code",
   "execution_count": 63,
   "id": "7203805b-4204-451c-adfd-b34592134fbf",
   "metadata": {},
   "outputs": [
    {
     "data": {
      "text/plain": [
       "array([4.34199207])"
      ]
     },
     "execution_count": 63,
     "metadata": {},
     "output_type": "execute_result"
    }
   ],
   "source": [
    "J_history2[-1]"
   ]
  },
  {
   "cell_type": "code",
   "execution_count": 64,
   "id": "a6e13279-2f61-42b9-81b8-2378d92d9768",
   "metadata": {},
   "outputs": [],
   "source": [
    "X2_test[:,[1]]=sc2.transform(X2_test[:,[1]])"
   ]
  },
  {
   "cell_type": "code",
   "execution_count": 65,
   "id": "343c128c-c6c0-4645-8ac9-938f04394c25",
   "metadata": {},
   "outputs": [
    {
     "data": {
      "text/plain": [
       "array([1.69342777])"
      ]
     },
     "execution_count": 65,
     "metadata": {},
     "output_type": "execute_result"
    }
   ],
   "source": [
    "computeCostFunctionReg(X2_test,y2_test,theta2,lambda_)"
   ]
  },
  {
   "cell_type": "markdown",
   "id": "49688ea0-441c-4d10-aec3-83fff4025fdc",
   "metadata": {},
   "source": [
    "👉 Giá trị của Cost Function khi kiểm nghiệm trên tập Test là 1.69. Có thể chấp nhận được."
   ]
  },
  {
   "cell_type": "markdown",
   "id": "730023be-a6d9-4085-85bd-9dc272e71545",
   "metadata": {},
   "source": [
    "**🛠 Implementation Normal Equation with Regularization**"
   ]
  },
  {
   "cell_type": "code",
   "execution_count": 66,
   "id": "9a7fbac4-6888-43b3-a1c1-9294354cb982",
   "metadata": {},
   "outputs": [],
   "source": [
    "def normalEquationReg(X, y, lambda_, A):\n",
    "    theta = np.zeros(X.shape[1])\n",
    "    \n",
    "    theta=np.dot(np.dot(np.linalg.inv(np.dot(X.T,X) + lambda_*A),X.T),y.reshape(-1,1))\n",
    "    theta=theta.squeeze()\n",
    "\n",
    "    return theta"
   ]
  },
  {
   "cell_type": "code",
   "execution_count": 67,
   "id": "971d6ba7-5718-426e-bfd2-ecac1dd54739",
   "metadata": {},
   "outputs": [
    {
     "data": {
      "text/plain": [
       "array([[0, 0, 0, 0],\n",
       "       [0, 1, 0, 0],\n",
       "       [0, 0, 1, 0],\n",
       "       [0, 0, 0, 1]])"
      ]
     },
     "execution_count": 67,
     "metadata": {},
     "output_type": "execute_result"
    }
   ],
   "source": [
    "A=np.diag(np.full(X2_train.shape[1],1))\n",
    "A[0,0]=0\n",
    "A"
   ]
  },
  {
   "cell_type": "code",
   "execution_count": 68,
   "id": "7b0f3938-7b92-4e73-8a06-b1e81abb1c95",
   "metadata": {},
   "outputs": [
    {
     "data": {
      "text/plain": [
       "array([2.33343441, 1.73685355, 0.01442697, 0.46946326])"
      ]
     },
     "execution_count": 68,
     "metadata": {},
     "output_type": "execute_result"
    }
   ],
   "source": [
    "theta2_eqn = normalEquationReg(X2_train, y2_train, lambda_, A)\n",
    "theta2_eqn"
   ]
  },
  {
   "cell_type": "code",
   "execution_count": 69,
   "id": "7fd55bdf-cde3-420b-8d6a-a87377a5b061",
   "metadata": {},
   "outputs": [
    {
     "data": {
      "text/plain": [
       "array([1.64593312])"
      ]
     },
     "execution_count": 69,
     "metadata": {},
     "output_type": "execute_result"
    }
   ],
   "source": [
    "computeCostFunctionReg(X2_test,y2_test,theta2_eqn,lambda_)"
   ]
  },
  {
   "cell_type": "markdown",
   "id": "0ea750e7-276e-4201-b965-9f6aa828e2c6",
   "metadata": {},
   "source": [
    "👉 Trong trường hợp này: **Normal Equation** cho kết quả hơi tốt hơn so với **Gradient Descent**."
   ]
  },
  {
   "cell_type": "code",
   "execution_count": 70,
   "id": "e0b0ff34-b20a-467e-80e4-7892ed91b8a1",
   "metadata": {},
   "outputs": [],
   "source": [
    "percent = np.abs((np.dot(X2_test,theta2) - y2_test)/y2_test)\n",
    "percent = percent*100"
   ]
  },
  {
   "cell_type": "code",
   "execution_count": 71,
   "id": "1d88984c-a629-450c-9872-216515fa3e25",
   "metadata": {},
   "outputs": [
    {
     "data": {
      "text/html": [
       "<div>\n",
       "<style scoped>\n",
       "    .dataframe tbody tr th:only-of-type {\n",
       "        vertical-align: middle;\n",
       "    }\n",
       "\n",
       "    .dataframe tbody tr th {\n",
       "        vertical-align: top;\n",
       "    }\n",
       "\n",
       "    .dataframe thead th {\n",
       "        text-align: right;\n",
       "    }\n",
       "</style>\n",
       "<table border=\"1\" class=\"dataframe\">\n",
       "  <thead>\n",
       "    <tr style=\"text-align: right;\">\n",
       "      <th></th>\n",
       "      <th>Gia du doan</th>\n",
       "      <th>Gia thuc</th>\n",
       "      <th>% sai lech</th>\n",
       "    </tr>\n",
       "  </thead>\n",
       "  <tbody>\n",
       "    <tr>\n",
       "      <th>0</th>\n",
       "      <td>3.129660</td>\n",
       "      <td>3.800</td>\n",
       "      <td>17.640537</td>\n",
       "    </tr>\n",
       "    <tr>\n",
       "      <th>1</th>\n",
       "      <td>1.405060</td>\n",
       "      <td>2.729</td>\n",
       "      <td>48.513734</td>\n",
       "    </tr>\n",
       "    <tr>\n",
       "      <th>2</th>\n",
       "      <td>6.688718</td>\n",
       "      <td>8.550</td>\n",
       "      <td>21.769385</td>\n",
       "    </tr>\n",
       "    <tr>\n",
       "      <th>3</th>\n",
       "      <td>4.368667</td>\n",
       "      <td>2.100</td>\n",
       "      <td>108.031761</td>\n",
       "    </tr>\n",
       "    <tr>\n",
       "      <th>4</th>\n",
       "      <td>3.021750</td>\n",
       "      <td>2.500</td>\n",
       "      <td>20.870010</td>\n",
       "    </tr>\n",
       "    <tr>\n",
       "      <th>...</th>\n",
       "      <td>...</td>\n",
       "      <td>...</td>\n",
       "      <td>...</td>\n",
       "    </tr>\n",
       "    <tr>\n",
       "      <th>222</th>\n",
       "      <td>-0.593212</td>\n",
       "      <td>1.850</td>\n",
       "      <td>132.065529</td>\n",
       "    </tr>\n",
       "    <tr>\n",
       "      <th>223</th>\n",
       "      <td>2.805932</td>\n",
       "      <td>2.900</td>\n",
       "      <td>3.243738</td>\n",
       "    </tr>\n",
       "    <tr>\n",
       "      <th>224</th>\n",
       "      <td>2.805932</td>\n",
       "      <td>1.920</td>\n",
       "      <td>46.142271</td>\n",
       "    </tr>\n",
       "    <tr>\n",
       "      <th>225</th>\n",
       "      <td>1.679630</td>\n",
       "      <td>1.710</td>\n",
       "      <td>1.776033</td>\n",
       "    </tr>\n",
       "    <tr>\n",
       "      <th>226</th>\n",
       "      <td>4.856209</td>\n",
       "      <td>3.900</td>\n",
       "      <td>24.518176</td>\n",
       "    </tr>\n",
       "  </tbody>\n",
       "</table>\n",
       "<p>227 rows × 3 columns</p>\n",
       "</div>"
      ],
      "text/plain": [
       "     Gia du doan  Gia thuc  % sai lech\n",
       "0       3.129660     3.800   17.640537\n",
       "1       1.405060     2.729   48.513734\n",
       "2       6.688718     8.550   21.769385\n",
       "3       4.368667     2.100  108.031761\n",
       "4       3.021750     2.500   20.870010\n",
       "..           ...       ...         ...\n",
       "222    -0.593212     1.850  132.065529\n",
       "223     2.805932     2.900    3.243738\n",
       "224     2.805932     1.920   46.142271\n",
       "225     1.679630     1.710    1.776033\n",
       "226     4.856209     3.900   24.518176\n",
       "\n",
       "[227 rows x 3 columns]"
      ]
     },
     "execution_count": 71,
     "metadata": {},
     "output_type": "execute_result"
    }
   ],
   "source": [
    "statistical = {'Gia du doan':np.dot(X2_test,theta2),\n",
    "        'Gia thuc':y2_test,\n",
    "       '% sai lech': percent}\n",
    "statistical_df = pd.DataFrame(statistical)\n",
    "statistical_df"
   ]
  },
  {
   "cell_type": "code",
   "execution_count": 72,
   "id": "8a721bba-3c32-4675-9bed-c8dd2115baf9",
   "metadata": {},
   "outputs": [
    {
     "data": {
      "text/plain": [
       "count    227.000000\n",
       "mean      52.757935\n",
       "std       46.147386\n",
       "min        0.486142\n",
       "25%       18.050626\n",
       "50%       37.043013\n",
       "75%       74.181322\n",
       "max      234.244868\n",
       "Name: % sai lech, dtype: float64"
      ]
     },
     "execution_count": 72,
     "metadata": {},
     "output_type": "execute_result"
    }
   ],
   "source": [
    "statistical_df['% sai lech'].describe()"
   ]
  },
  {
   "cell_type": "markdown",
   "id": "2056ba8a-d2df-4cb5-878e-5e1eff2662ad",
   "metadata": {},
   "source": [
    "💬 **Nhận xét:**\n",
    "- Từ độ sai lệch cho thấy mô hình đưa ra dự đoán có thể chấp nhận được cho những căn hộ có giá bán từ thấp đến trung bình, những căn hộ có giá bán cao có độ sai lệch quá nhiều cho thấy những thông tin từ dữ liệu đầu vào không còn đúng khi dùng để đánh giá giá bán cho những căn hộ này. Có thể tính tới các yêu tố ngoại cảnh như chất lượng nội thất, chất lượng vật liệu xây dựng công trình, nhà thầu xây dựng, hay ý kiến chủ quan của người bán...."
   ]
  },
  {
   "cell_type": "markdown",
   "id": "af3ef39d-cfb9-463d-9937-e27262b9958c",
   "metadata": {},
   "source": [
    "<a id=\"3.3\"></a>\n",
    "### <span style='color:#2B9C15'>3. Đánh giá mô hình (Evaluation)</span>"
   ]
  },
  {
   "cell_type": "markdown",
   "id": "17c1ce40-c1b6-43fb-abfd-f2295c522535",
   "metadata": {},
   "source": [
    "🗺️  Dùng $R^{2} Score$ để đánh giá độ phù hợp của mô hình. Điểm số tốt nhất có thể có là 1.0 và có thể có giá trị âm (mô hình cho ra kết quả quá tệ)."
   ]
  },
  {
   "cell_type": "markdown",
   "id": "3e54bb1e-8d2b-4369-af03-aac3126d59a6",
   "metadata": {},
   "source": [
    "🗺️ $R^{2} Score$ sẽ cho biết tỷ lệ các điểm dữ liệu nằm gần đường tuyến tính như thế nào. Nếu càng nhiều điểm dữ liệu trong bộ dữ liệu nằm gần đường tuyến tình thì điểm càng cao và ngược lại. "
   ]
  },
  {
   "cell_type": "markdown",
   "id": "1ee4ac2a-7376-479e-887d-2ee8bc348ac8",
   "metadata": {},
   "source": [
    "**🗺️ $R^{2} Score$:**\n",
    "\n",
    "$R^{2}$ được định nghĩa bằng công thức: $$(1 - \\frac{u}{v})$$ với u = sum( (y_true - y_pred)^2 )\n",
    "\n",
    "v = sum( (y_true - y_true.mean( ) )^2)"
   ]
  },
  {
   "cell_type": "markdown",
   "id": "ef49014c-9a97-462f-b808-2d6af9759116",
   "metadata": {},
   "source": [
    "**🛠 Implementation $R^{2} Score$:**"
   ]
  },
  {
   "cell_type": "code",
   "execution_count": 73,
   "id": "e46a3811-b011-4435-8238-03077f9b47d5",
   "metadata": {},
   "outputs": [],
   "source": [
    "def r2Score(y_true, y_pred):\n",
    "    u = np.sum(np.square(y_true - y_pred))\n",
    "    v = np.sum(np.square(y_true - np.mean(y_true)))\n",
    "    return 1 - (u/v)"
   ]
  },
  {
   "cell_type": "markdown",
   "id": "6e3ae505-a5a7-4755-a668-017f8bf7cacd",
   "metadata": {},
   "source": [
    "💬 Đánh giá mô hình hồi quy tuyến tính đơn biến."
   ]
  },
  {
   "cell_type": "code",
   "execution_count": 74,
   "id": "6b3d0624-f2d5-4fa7-8716-080774a167bd",
   "metadata": {},
   "outputs": [
    {
     "name": "stdout",
     "output_type": "stream",
     "text": [
      "0.290283750071892\n",
      "0.29024089821446286\n"
     ]
    }
   ],
   "source": [
    "print(r2Score(y_test.round(2),predictions))\n",
    "#R2 score by sklearn.\n",
    "print(regr.score(X_test,y_test))"
   ]
  },
  {
   "cell_type": "markdown",
   "id": "30846789-0aed-4cfa-9e31-529e84711ce4",
   "metadata": {},
   "source": [
    "💬 Đánh giá mô hình hồi quy tuyến tính đa biến."
   ]
  },
  {
   "cell_type": "code",
   "execution_count": 75,
   "id": "82c99557-0d5b-45e4-bc70-f3d98e6799cf",
   "metadata": {},
   "outputs": [
    {
     "data": {
      "text/plain": [
       "LinearRegression()"
      ]
     },
     "execution_count": 75,
     "metadata": {},
     "output_type": "execute_result"
    }
   ],
   "source": [
    "regr2 = LinearRegression()\n",
    "regr2.fit(X2_train, y2_train)"
   ]
  },
  {
   "cell_type": "code",
   "execution_count": 76,
   "id": "1972b149-c717-4b0b-a22b-21b24feed550",
   "metadata": {},
   "outputs": [
    {
     "name": "stdout",
     "output_type": "stream",
     "text": [
      "0.24431424954822278\n",
      "0.26539722264815246\n"
     ]
    }
   ],
   "source": [
    "print(r2Score(y2_test.round(2), np.dot(X2_test,theta2).round(2)))\n",
    "#R2 score from sklearn.\n",
    "print(regr2.score(X2_test,y2_test))"
   ]
  },
  {
   "cell_type": "markdown",
   "id": "d9c16ac1-8e3a-42e5-a32f-712e973c3c4f",
   "metadata": {},
   "source": [
    "💬 **Nhận xét:**\n",
    "- Từ $R^{2} Score$ cho thấy các nhận xét như sau:\n",
    "    + Bộ dữ liệu có mức phù hợp thấp với mô hình hồi quy tuyến tính.\n",
    "    + Có thể do số lượng dự liệu chưa đủ lớn ảnh hưởng đến việc học tập của mô hình.\n",
    "    + Giá của những ngôi nhà giá cao chưa phù hợp với thông tin đầu vào."
   ]
  },
  {
   "cell_type": "markdown",
   "id": "6d99b39b-d7bb-4d43-b940-45e1cdc9ce12",
   "metadata": {},
   "source": [
    "<a id=\"3.4\"></a>\n",
    "### <span style='color:#2B9C15'>4. Hồi quy đa thức (Polynomial Regression) đơn giản với đơn biến</span>"
   ]
  },
  {
   "cell_type": "markdown",
   "id": "b6b0df52-de5f-4ec0-bec6-c8c48ea7c2ef",
   "metadata": {},
   "source": [
    "**🗺️ Hồi quy đa thức:**\n",
    "\n",
    "- Là việc sử dụng một hypothesis có bậc lớn hơn 1 để biểu diễn các mối quan hệ phi tuyến tính.\n",
    "- Trong thuật toán hồi quy tuyến tính, nó chỉ hoạt động tốt khi mối quan hệ trong bộ dữ liệu là tuyến tính. Nhưng giả sử nếu chúng ta có dữ liệu phi tuyến tính thì hồi quy tuyến tính sẽ không thể vẽ một đường phù hợp nhất và nó sẽ thất bại trong việc khớp dữ liệu cũng như dự đoán sau này.\n",
    "- Khi thực hiện hồi quy đa thức đơn biến thì hypothesis sẽ có dạng: $$h_{\\theta}(x) = \\theta_{0} + \\theta_{1}x + \\theta_{2}x^{2} + ... + \\theta_{n}x^{n}$$ với bậc là n."
   ]
  },
  {
   "cell_type": "markdown",
   "id": "d4ac1fa2-ea71-48a3-b654-9027a3e991f3",
   "metadata": {},
   "source": [
    "**💬 Nhận xét:**\n",
    "- Nhóm sẽ sử dụng thuộc tính 'DienTich' để thực hiện hồi quy đa thức với bậc là 2 để xem liệu có thể tăng hiệu suất dự đoán so với hồi quy tuyến tính.\n",
    "- Trong phần này nhóm sẽ không tự cài đặt mà sẽ dùng thư viện sklearn để hỗ trợ."
   ]
  },
  {
   "cell_type": "code",
   "execution_count": 77,
   "id": "3cea23f3-01bb-43a1-8b94-be9809442f3a",
   "metadata": {},
   "outputs": [],
   "source": [
    "X3=data[:,1]\n",
    "y3=data[:,0]"
   ]
  },
  {
   "cell_type": "code",
   "execution_count": 78,
   "id": "08126d06-572b-4072-b343-336d3484ea56",
   "metadata": {},
   "outputs": [],
   "source": [
    "np.random.seed(13)\n",
    "X3_train,X3_test,y3_train,y3_test=train_test_split(X3,y3,test_size=0.2)"
   ]
  },
  {
   "cell_type": "code",
   "execution_count": 79,
   "id": "63a36eba-8a80-4479-a142-98b30175d9e1",
   "metadata": {},
   "outputs": [],
   "source": [
    "from sklearn.preprocessing import PolynomialFeatures\n",
    "poly = PolynomialFeatures(degree=2, include_bias=True)\n",
    "X3_train_trans = poly.fit_transform(X3_train.reshape(-1,1))\n",
    "X3_test_trans = poly.transform(X3_test.reshape(-1,1))"
   ]
  },
  {
   "cell_type": "code",
   "execution_count": 80,
   "id": "7301cedf-530c-4e52-b013-0bdfed995e52",
   "metadata": {},
   "outputs": [
    {
     "data": {
      "text/plain": [
       "0.41510798158220796"
      ]
     },
     "execution_count": 80,
     "metadata": {},
     "output_type": "execute_result"
    }
   ],
   "source": [
    "lr = LinearRegression()\n",
    "lr.fit(X3_train_trans, y3_train)\n",
    "y_pred = lr.predict(X3_test_trans)\n",
    "lr.score(X3_test_trans,y3_test)"
   ]
  },
  {
   "cell_type": "code",
   "execution_count": 81,
   "id": "717da0e9-0319-4b00-bed7-12269d8562f9",
   "metadata": {},
   "outputs": [
    {
     "data": {
      "image/png": "[encoded data removed]",
      "text/plain": [
       "<Figure size 432x288 with 1 Axes>"
      ]
     },
     "metadata": {
      "needs_background": "light"
     },
     "output_type": "display_data"
    }
   ],
   "source": [
    "plt.plot(X3_train,y3_train,c='r',marker='o',ms=10,mec='k',ls='none');\n",
    "plt.plot(X3_train, np.dot(X3_train_trans,lr.coef_.reshape(-1,1)), '-')\n",
    "plt.xlabel(\"X\")\n",
    "plt.ylabel(\"y\")\n",
    "plt.show()"
   ]
  },
  {
   "cell_type": "markdown",
   "id": "14926340-713c-4e41-bd44-bdb729abcaf2",
   "metadata": {},
   "source": [
    "**💬 Nhận xét:**\n",
    "- $R^{2} score$ tăng lên nhưng mô hình vẫn không khả quan.\n",
    "- Điểm số tăng lên là do sai lệch ở mỗi điểm dữ liệu dự đoán và điểm dữ liệu thật giảm đi so với hồi quy tuyến tính nhưng sẽ ít đi các điểm gần đúng hơn so với hồi quy tuyến tính."
   ]
  },
  {
   "cell_type": "markdown",
   "id": "8f98c052-adcb-4433-a0e9-dc8d583ed9f4",
   "metadata": {},
   "source": [
    "<div style=\"text-align: left; background-color:#0C6A86; font-family:Arial; color:white; padding: 12px; line-height:1.25;border-radius:1px; margin-bottom: 0em; text-align: center; font-size: 30px;border-style: solid;border-color: black;\">HẾT PHẦN 2</div>\n",
    "<div style=\"text-align: left; background-color:#fadefc; font-family: Arial; color:#551184; padding: 12px; line-height:1.25;border-radius:1px; margin-bottom: 0em; text-align: center; font-size: 18px\">| Thank you for watching! |</div>"
   ]
  }
 ],
 "metadata": {
  "kernelspec": {
   "display_name": "Python 3 (ipykernel)",
   "language": "python",
   "name": "python3"
  },
  "language_info": {
   "codemirror_mode": {
    "name": "ipython",
    "version": 3
   },
   "file_extension": ".py",
   "mimetype": "text/x-python",
   "name": "python",
   "nbconvert_exporter": "python",
   "pygments_lexer": "ipython3",
   "version": "3.9.5"
  },
  "vscode": {
   "interpreter": {
    "hash": "20a9e06a1eee47c4abbed4ec8225ad91d78d9800d202b71b6b0a6e47016c6abd"
   }
  }
 },
 "nbformat": 4,
 "nbformat_minor": 5
}
